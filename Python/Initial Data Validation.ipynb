{
 "cells": [
  {
   "cell_type": "markdown",
   "id": "9aaad61a-4887-4812-ab86-76541b11b4cb",
   "metadata": {},
   "source": [
    "### Orders Analysis"
   ]
  },
  {
   "cell_type": "markdown",
   "id": "1ae95f6f-9f88-4835-b26f-ea397fe26830",
   "metadata": {},
   "source": [
    "Before performing any analysis, it is critical to perform basic validations against the dataset."
   ]
  },
  {
   "cell_type": "code",
   "execution_count": 5,
   "id": "5b35ff7a-b18d-490e-bdcd-648dcb520fc3",
   "metadata": {},
   "outputs": [],
   "source": [
    "import pandas as pd\n",
    "import numpy as np\n",
    "import seaborn as sns\n",
    "import matplotlib as plt\n",
    "import jinja2 as jnj"
   ]
  },
  {
   "cell_type": "markdown",
   "id": "b306533b-b0fb-4157-a154-3ac87ce0f6bc",
   "metadata": {},
   "source": [
    "Now that we have imported our packages let's lead python to the .csv file we will be using"
   ]
  },
  {
   "cell_type": "code",
   "execution_count": 17,
   "id": "2d283e19-7b56-4ce4-b04e-0a6fe3011f00",
   "metadata": {},
   "outputs": [],
   "source": [
    "file_path = '/Users/markhinojosa/coffee-shop/Raw Data/ORDERS.csv'"
   ]
  },
  {
   "cell_type": "markdown",
   "id": "3703bedf-0be0-4f62-9767-6138d1fe5c7b",
   "metadata": {},
   "source": [
    "Now that we have the filepath, let's create our dataframe."
   ]
  },
  {
   "cell_type": "code",
   "execution_count": 19,
   "id": "e13092ea-3cc5-4f59-9a6e-35a8967eccdd",
   "metadata": {},
   "outputs": [],
   "source": [
    "df = pd.read_csv(file_path)"
   ]
  },
  {
   "cell_type": "markdown",
   "id": "bef2e887-8424-4428-a4f7-7e5676011b2e",
   "metadata": {},
   "source": [
    "Now that we have loaded the data, let's sample "
   ]
  },
  {
   "cell_type": "code",
   "execution_count": 24,
   "id": "73657d7d-a21c-4176-941c-b4547eb0d473",
   "metadata": {},
   "outputs": [
    {
     "data": {
      "text/html": [
       "<div>\n",
       "<style scoped>\n",
       "    .dataframe tbody tr th:only-of-type {\n",
       "        vertical-align: middle;\n",
       "    }\n",
       "\n",
       "    .dataframe tbody tr th {\n",
       "        vertical-align: top;\n",
       "    }\n",
       "\n",
       "    .dataframe thead th {\n",
       "        text-align: right;\n",
       "    }\n",
       "</style>\n",
       "<table border=\"1\" class=\"dataframe\">\n",
       "  <thead>\n",
       "    <tr style=\"text-align: right;\">\n",
       "      <th></th>\n",
       "      <th>Order ID</th>\n",
       "      <th>Order Date</th>\n",
       "      <th>Customer ID</th>\n",
       "      <th>Product ID</th>\n",
       "      <th>Quantity</th>\n",
       "    </tr>\n",
       "  </thead>\n",
       "  <tbody>\n",
       "    <tr>\n",
       "      <th>0</th>\n",
       "      <td>QEV-37451-860</td>\n",
       "      <td>2019-09-05</td>\n",
       "      <td>17670-51384-MA</td>\n",
       "      <td>R-M-1</td>\n",
       "      <td>2</td>\n",
       "    </tr>\n",
       "    <tr>\n",
       "      <th>1</th>\n",
       "      <td>QEV-37451-860</td>\n",
       "      <td>2019-09-05</td>\n",
       "      <td>17670-51384-MA</td>\n",
       "      <td>E-M-0.5</td>\n",
       "      <td>5</td>\n",
       "    </tr>\n",
       "    <tr>\n",
       "      <th>2</th>\n",
       "      <td>FAA-43335-268</td>\n",
       "      <td>2021-06-17</td>\n",
       "      <td>21125-22134-PX</td>\n",
       "      <td>A-L-1</td>\n",
       "      <td>1</td>\n",
       "    </tr>\n",
       "    <tr>\n",
       "      <th>3</th>\n",
       "      <td>KAC-83089-793</td>\n",
       "      <td>2021-07-15</td>\n",
       "      <td>23806-46781-OU</td>\n",
       "      <td>E-M-1</td>\n",
       "      <td>2</td>\n",
       "    </tr>\n",
       "    <tr>\n",
       "      <th>4</th>\n",
       "      <td>KAC-83089-793</td>\n",
       "      <td>2021-07-15</td>\n",
       "      <td>23806-46781-OU</td>\n",
       "      <td>R-L-2.5</td>\n",
       "      <td>2</td>\n",
       "    </tr>\n",
       "    <tr>\n",
       "      <th>...</th>\n",
       "      <td>...</td>\n",
       "      <td>...</td>\n",
       "      <td>...</td>\n",
       "      <td>...</td>\n",
       "      <td>...</td>\n",
       "    </tr>\n",
       "    <tr>\n",
       "      <th>995</th>\n",
       "      <td>RLM-96511-467</td>\n",
       "      <td>2020-01-06</td>\n",
       "      <td>43014-53743-XK</td>\n",
       "      <td>R-L-2.5</td>\n",
       "      <td>1</td>\n",
       "    </tr>\n",
       "    <tr>\n",
       "      <th>996</th>\n",
       "      <td>AEZ-13242-456</td>\n",
       "      <td>2022-05-04</td>\n",
       "      <td>62494-09113-RP</td>\n",
       "      <td>R-M-0.5</td>\n",
       "      <td>5</td>\n",
       "    </tr>\n",
       "    <tr>\n",
       "      <th>997</th>\n",
       "      <td>UME-75640-698</td>\n",
       "      <td>2019-10-11</td>\n",
       "      <td>62494-09113-RP</td>\n",
       "      <td>A-M-0.5</td>\n",
       "      <td>4</td>\n",
       "    </tr>\n",
       "    <tr>\n",
       "      <th>998</th>\n",
       "      <td>GJC-66474-557</td>\n",
       "      <td>2021-08-03</td>\n",
       "      <td>64965-78386-MY</td>\n",
       "      <td>A-D-1</td>\n",
       "      <td>1</td>\n",
       "    </tr>\n",
       "    <tr>\n",
       "      <th>999</th>\n",
       "      <td>IRV-20769-219</td>\n",
       "      <td>2020-10-15</td>\n",
       "      <td>77131-58092-GE</td>\n",
       "      <td>E-M-0.2</td>\n",
       "      <td>3</td>\n",
       "    </tr>\n",
       "  </tbody>\n",
       "</table>\n",
       "<p>1000 rows × 5 columns</p>\n",
       "</div>"
      ],
      "text/plain": [
       "          Order ID  Order Date     Customer ID Product ID  Quantity\n",
       "0    QEV-37451-860  2019-09-05  17670-51384-MA      R-M-1         2\n",
       "1    QEV-37451-860  2019-09-05  17670-51384-MA    E-M-0.5         5\n",
       "2    FAA-43335-268  2021-06-17  21125-22134-PX      A-L-1         1\n",
       "3    KAC-83089-793  2021-07-15  23806-46781-OU      E-M-1         2\n",
       "4    KAC-83089-793  2021-07-15  23806-46781-OU    R-L-2.5         2\n",
       "..             ...         ...             ...        ...       ...\n",
       "995  RLM-96511-467  2020-01-06  43014-53743-XK    R-L-2.5         1\n",
       "996  AEZ-13242-456  2022-05-04  62494-09113-RP    R-M-0.5         5\n",
       "997  UME-75640-698  2019-10-11  62494-09113-RP    A-M-0.5         4\n",
       "998  GJC-66474-557  2021-08-03  64965-78386-MY      A-D-1         1\n",
       "999  IRV-20769-219  2020-10-15  77131-58092-GE    E-M-0.2         3\n",
       "\n",
       "[1000 rows x 5 columns]"
      ]
     },
     "execution_count": 24,
     "metadata": {},
     "output_type": "execute_result"
    }
   ],
   "source": [
    "df"
   ]
  },
  {
   "cell_type": "code",
   "execution_count": 23,
   "id": "f5fcd5bc-1ea6-46df-a676-aae0ca34a2e0",
   "metadata": {},
   "outputs": [
    {
     "data": {
      "text/plain": [
       "Order ID       object\n",
       "Order Date     object\n",
       "Customer ID    object\n",
       "Product ID     object\n",
       "Quantity        int64\n",
       "dtype: object"
      ]
     },
     "execution_count": 23,
     "metadata": {},
     "output_type": "execute_result"
    }
   ],
   "source": [
    "df.dtypes"
   ]
  },
  {
   "cell_type": "markdown",
   "id": "18235d02-ff5d-4124-9b8e-bad71a1c972c",
   "metadata": {},
   "source": [
    "It looks like we have to convert the order date into a datetime type."
   ]
  },
  {
   "cell_type": "code",
   "execution_count": 28,
   "id": "a5ad8fbd-2faa-496a-8463-f0bd5322b220",
   "metadata": {},
   "outputs": [],
   "source": [
    "df['Order Date'] = pd.to_datetime(df['Order Date'])"
   ]
  },
  {
   "cell_type": "markdown",
   "id": "1eca2b1c-f9e6-41b9-a4b7-f29c9612d2c3",
   "metadata": {},
   "source": [
    "Let's verify!"
   ]
  },
  {
   "cell_type": "code",
   "execution_count": 29,
   "id": "6cdf7613-f405-499f-85e3-eaa831a67b3d",
   "metadata": {},
   "outputs": [
    {
     "data": {
      "text/plain": [
       "Order ID               object\n",
       "Order Date     datetime64[ns]\n",
       "Customer ID            object\n",
       "Product ID             object\n",
       "Quantity                int64\n",
       "dtype: object"
      ]
     },
     "execution_count": 29,
     "metadata": {},
     "output_type": "execute_result"
    }
   ],
   "source": [
    "df.dtypes"
   ]
  },
  {
   "cell_type": "code",
   "execution_count": null,
   "id": "b663f624-71c2-4679-952a-9fdc4e9782aa",
   "metadata": {},
   "outputs": [],
   "source": []
  }
 ],
 "metadata": {
  "kernelspec": {
   "display_name": "Python 3 (ipykernel)",
   "language": "python",
   "name": "python3"
  },
  "language_info": {
   "codemirror_mode": {
    "name": "ipython",
    "version": 3
   },
   "file_extension": ".py",
   "mimetype": "text/x-python",
   "name": "python",
   "nbconvert_exporter": "python",
   "pygments_lexer": "ipython3",
   "version": "3.9.6"
  }
 },
 "nbformat": 4,
 "nbformat_minor": 5
}

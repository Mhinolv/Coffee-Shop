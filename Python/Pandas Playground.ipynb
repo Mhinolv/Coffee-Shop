{
 "cells": [
  {
   "cell_type": "markdown",
   "id": "9aaad61a-4887-4812-ab86-76541b11b4cb",
   "metadata": {},
   "source": [
    "# Pandas Playground"
   ]
  },
  {
   "cell_type": "markdown",
   "id": "1ae95f6f-9f88-4835-b26f-ea397fe26830",
   "metadata": {},
   "source": [
    "We will start by loading the necessary libraries we will be using."
   ]
  },
  {
   "cell_type": "code",
   "execution_count": 1,
   "id": "5b35ff7a-b18d-490e-bdcd-648dcb520fc3",
   "metadata": {},
   "outputs": [],
   "source": [
    "import pandas as pd\n",
    "import numpy as np\n",
    "import seaborn as sns\n",
    "import matplotlib as plt\n",
    "import jinja2 as jnj"
   ]
  },
  {
   "cell_type": "markdown",
   "id": "b306533b-b0fb-4157-a154-3ac87ce0f6bc",
   "metadata": {},
   "source": [
    "Now that we have imported our libraries let's lead python to the .csv files we will be using <br>\n",
    "Notice that we are creating variables for each of the pathways, this makes it easy to call later."
   ]
  },
  {
   "cell_type": "code",
   "execution_count": 2,
   "id": "2d283e19-7b56-4ce4-b04e-0a6fe3011f00",
   "metadata": {},
   "outputs": [],
   "source": [
    "orders = '/Users/markhinojosa/coffee-shop/Raw Data/ORDERS.csv'\n",
    "products = '/Users/markhinojosa/coffee-shop/Raw Data/PRODUCTS.csv'\n",
    "customers = '/Users/markhinojosa/coffee-shop/Raw Data/CUSTOMERS.csv'"
   ]
  },
  {
   "cell_type": "markdown",
   "id": "3703bedf-0be0-4f62-9767-6138d1fe5c7b",
   "metadata": {},
   "source": [
    "We have our filepaths variables ready to go, let's feed through Pandas to create our Dataframes.<br>\n",
    "[Learn More About Dataframes](https://realpython.com/pandas-dataframe/#:~:text=The%20pandas%20DataFrame%20is%20a,with%20in%20Excel%20or%20Calc.)"
   ]
  },
  {
   "cell_type": "code",
   "execution_count": 3,
   "id": "e13092ea-3cc5-4f59-9a6e-35a8967eccdd",
   "metadata": {},
   "outputs": [],
   "source": [
    "ordersDF = pd.read_csv(orders)\n",
    "productsDF = pd.read_csv(products)\n",
    "customersDF = pd.read_csv(customers)"
   ]
  },
  {
   "cell_type": "markdown",
   "id": "bef2e887-8424-4428-a4f7-7e5676011b2e",
   "metadata": {},
   "source": [
    "## Data Population Validation\n",
    "Our data has been loaded, but let's verify that is is populating correctly."
   ]
  },
  {
   "cell_type": "markdown",
   "id": "3358c33e-a6a4-4b55-ba75-6312496ac7fe",
   "metadata": {},
   "source": [
    "The .head() method will pull the top nth rows but the data set. <br>\n",
    "The .head() method can be populated as .head(20) to determine the sample size of data you want to pull. <br>\n",
    "If left empty the default value is 5 rows."
   ]
  },
  {
   "cell_type": "code",
   "execution_count": 4,
   "id": "73657d7d-a21c-4176-941c-b4547eb0d473",
   "metadata": {},
   "outputs": [
    {
     "data": {
      "text/html": [
       "<div>\n",
       "<style scoped>\n",
       "    .dataframe tbody tr th:only-of-type {\n",
       "        vertical-align: middle;\n",
       "    }\n",
       "\n",
       "    .dataframe tbody tr th {\n",
       "        vertical-align: top;\n",
       "    }\n",
       "\n",
       "    .dataframe thead th {\n",
       "        text-align: right;\n",
       "    }\n",
       "</style>\n",
       "<table border=\"1\" class=\"dataframe\">\n",
       "  <thead>\n",
       "    <tr style=\"text-align: right;\">\n",
       "      <th></th>\n",
       "      <th>Order ID</th>\n",
       "      <th>Order Date</th>\n",
       "      <th>Customer ID</th>\n",
       "      <th>Product ID</th>\n",
       "      <th>Quantity</th>\n",
       "    </tr>\n",
       "  </thead>\n",
       "  <tbody>\n",
       "    <tr>\n",
       "      <th>0</th>\n",
       "      <td>QEV-37451-860</td>\n",
       "      <td>2019-09-05</td>\n",
       "      <td>17670-51384-MA</td>\n",
       "      <td>R-M-1</td>\n",
       "      <td>2</td>\n",
       "    </tr>\n",
       "    <tr>\n",
       "      <th>1</th>\n",
       "      <td>QEV-37451-860</td>\n",
       "      <td>2019-09-05</td>\n",
       "      <td>17670-51384-MA</td>\n",
       "      <td>E-M-0.5</td>\n",
       "      <td>5</td>\n",
       "    </tr>\n",
       "    <tr>\n",
       "      <th>2</th>\n",
       "      <td>FAA-43335-268</td>\n",
       "      <td>2021-06-17</td>\n",
       "      <td>21125-22134-PX</td>\n",
       "      <td>A-L-1</td>\n",
       "      <td>1</td>\n",
       "    </tr>\n",
       "    <tr>\n",
       "      <th>3</th>\n",
       "      <td>KAC-83089-793</td>\n",
       "      <td>2021-07-15</td>\n",
       "      <td>23806-46781-OU</td>\n",
       "      <td>E-M-1</td>\n",
       "      <td>2</td>\n",
       "    </tr>\n",
       "    <tr>\n",
       "      <th>4</th>\n",
       "      <td>KAC-83089-793</td>\n",
       "      <td>2021-07-15</td>\n",
       "      <td>23806-46781-OU</td>\n",
       "      <td>R-L-2.5</td>\n",
       "      <td>2</td>\n",
       "    </tr>\n",
       "  </tbody>\n",
       "</table>\n",
       "</div>"
      ],
      "text/plain": [
       "        Order ID  Order Date     Customer ID Product ID  Quantity\n",
       "0  QEV-37451-860  2019-09-05  17670-51384-MA      R-M-1         2\n",
       "1  QEV-37451-860  2019-09-05  17670-51384-MA    E-M-0.5         5\n",
       "2  FAA-43335-268  2021-06-17  21125-22134-PX      A-L-1         1\n",
       "3  KAC-83089-793  2021-07-15  23806-46781-OU      E-M-1         2\n",
       "4  KAC-83089-793  2021-07-15  23806-46781-OU    R-L-2.5         2"
      ]
     },
     "execution_count": 4,
     "metadata": {},
     "output_type": "execute_result"
    }
   ],
   "source": [
    "ordersDF.head()"
   ]
  },
  {
   "cell_type": "markdown",
   "id": "8670b3a0-eb94-4219-b13c-85d100c7c97a",
   "metadata": {},
   "source": [
    "Similar to .head() -- .tail() grabs the bottom nth rows from a dataframe."
   ]
  },
  {
   "cell_type": "code",
   "execution_count": 5,
   "id": "2067337a-4d0d-469b-9f72-82b56e2eadb5",
   "metadata": {},
   "outputs": [
    {
     "data": {
      "text/html": [
       "<div>\n",
       "<style scoped>\n",
       "    .dataframe tbody tr th:only-of-type {\n",
       "        vertical-align: middle;\n",
       "    }\n",
       "\n",
       "    .dataframe tbody tr th {\n",
       "        vertical-align: top;\n",
       "    }\n",
       "\n",
       "    .dataframe thead th {\n",
       "        text-align: right;\n",
       "    }\n",
       "</style>\n",
       "<table border=\"1\" class=\"dataframe\">\n",
       "  <thead>\n",
       "    <tr style=\"text-align: right;\">\n",
       "      <th></th>\n",
       "      <th>Product ID</th>\n",
       "      <th>Coffee Type</th>\n",
       "      <th>Roast Type</th>\n",
       "      <th>Size</th>\n",
       "      <th>Unit Price</th>\n",
       "      <th>Price per 100g</th>\n",
       "      <th>Profit</th>\n",
       "    </tr>\n",
       "  </thead>\n",
       "  <tbody>\n",
       "    <tr>\n",
       "      <th>43</th>\n",
       "      <td>E-M-2.5</td>\n",
       "      <td>Exc</td>\n",
       "      <td>M</td>\n",
       "      <td>2.5</td>\n",
       "      <td>31.625</td>\n",
       "      <td>1.2650</td>\n",
       "      <td>3.47875</td>\n",
       "    </tr>\n",
       "    <tr>\n",
       "      <th>44</th>\n",
       "      <td>E-D-0.2</td>\n",
       "      <td>Exc</td>\n",
       "      <td>D</td>\n",
       "      <td>0.2</td>\n",
       "      <td>3.645</td>\n",
       "      <td>1.8225</td>\n",
       "      <td>0.40095</td>\n",
       "    </tr>\n",
       "    <tr>\n",
       "      <th>45</th>\n",
       "      <td>E-D-0.5</td>\n",
       "      <td>Exc</td>\n",
       "      <td>D</td>\n",
       "      <td>0.5</td>\n",
       "      <td>7.290</td>\n",
       "      <td>1.4580</td>\n",
       "      <td>0.80190</td>\n",
       "    </tr>\n",
       "    <tr>\n",
       "      <th>46</th>\n",
       "      <td>E-D-1</td>\n",
       "      <td>Exc</td>\n",
       "      <td>D</td>\n",
       "      <td>1.0</td>\n",
       "      <td>12.150</td>\n",
       "      <td>1.2150</td>\n",
       "      <td>1.33650</td>\n",
       "    </tr>\n",
       "    <tr>\n",
       "      <th>47</th>\n",
       "      <td>E-D-2.5</td>\n",
       "      <td>Exc</td>\n",
       "      <td>D</td>\n",
       "      <td>2.5</td>\n",
       "      <td>27.945</td>\n",
       "      <td>1.1178</td>\n",
       "      <td>3.07395</td>\n",
       "    </tr>\n",
       "  </tbody>\n",
       "</table>\n",
       "</div>"
      ],
      "text/plain": [
       "   Product ID Coffee Type Roast Type  Size  Unit Price  Price per 100g  \\\n",
       "43    E-M-2.5         Exc          M   2.5      31.625          1.2650   \n",
       "44    E-D-0.2         Exc          D   0.2       3.645          1.8225   \n",
       "45    E-D-0.5         Exc          D   0.5       7.290          1.4580   \n",
       "46      E-D-1         Exc          D   1.0      12.150          1.2150   \n",
       "47    E-D-2.5         Exc          D   2.5      27.945          1.1178   \n",
       "\n",
       "     Profit  \n",
       "43  3.47875  \n",
       "44  0.40095  \n",
       "45  0.80190  \n",
       "46  1.33650  \n",
       "47  3.07395  "
      ]
     },
     "execution_count": 5,
     "metadata": {},
     "output_type": "execute_result"
    }
   ],
   "source": [
    "productsDF.tail()"
   ]
  },
  {
   "cell_type": "markdown",
   "id": "1ce65f8e-91c0-4005-8490-7ecf812d5d1a",
   "metadata": {},
   "source": [
    "The .sample() method behaves differently in that it will surface randomly selected rows from the dataframe. <br>\n",
    "It also allows for variable input"
   ]
  },
  {
   "cell_type": "code",
   "execution_count": 6,
   "id": "57c8a239-65ca-4562-9fa8-b4bfc7de9b73",
   "metadata": {},
   "outputs": [
    {
     "data": {
      "text/html": [
       "<div>\n",
       "<style scoped>\n",
       "    .dataframe tbody tr th:only-of-type {\n",
       "        vertical-align: middle;\n",
       "    }\n",
       "\n",
       "    .dataframe tbody tr th {\n",
       "        vertical-align: top;\n",
       "    }\n",
       "\n",
       "    .dataframe thead th {\n",
       "        text-align: right;\n",
       "    }\n",
       "</style>\n",
       "<table border=\"1\" class=\"dataframe\">\n",
       "  <thead>\n",
       "    <tr style=\"text-align: right;\">\n",
       "      <th></th>\n",
       "      <th>Customer ID</th>\n",
       "      <th>Customer Name</th>\n",
       "      <th>Email</th>\n",
       "      <th>Phone Number</th>\n",
       "      <th>Address Line 1</th>\n",
       "      <th>City</th>\n",
       "      <th>Country</th>\n",
       "      <th>Postcode</th>\n",
       "      <th>Loyalty Card</th>\n",
       "    </tr>\n",
       "  </thead>\n",
       "  <tbody>\n",
       "    <tr>\n",
       "      <th>350</th>\n",
       "      <td>99358-65399-TC</td>\n",
       "      <td>Joshuah Awdry</td>\n",
       "      <td>jawdry9q@utexas.edu</td>\n",
       "      <td>+1 (318) 747-7610</td>\n",
       "      <td>7961 Blackbird Road</td>\n",
       "      <td>Shreveport</td>\n",
       "      <td>United States</td>\n",
       "      <td>71137</td>\n",
       "      <td>No</td>\n",
       "    </tr>\n",
       "    <tr>\n",
       "      <th>812</th>\n",
       "      <td>45009-09239-IV</td>\n",
       "      <td>Micky Glover</td>\n",
       "      <td>mglovermk@cnbc.com</td>\n",
       "      <td>+44 (898) 129-9218</td>\n",
       "      <td>95 Grasskamp Point</td>\n",
       "      <td>Burnside</td>\n",
       "      <td>United Kingdom</td>\n",
       "      <td>EH52</td>\n",
       "      <td>Yes</td>\n",
       "    </tr>\n",
       "    <tr>\n",
       "      <th>873</th>\n",
       "      <td>16809-16936-WF</td>\n",
       "      <td>Modesty MacConnechie</td>\n",
       "      <td>mmacconnechieo9@reuters.com</td>\n",
       "      <td>+1 (304) 620-6008</td>\n",
       "      <td>526 Onsgard Park</td>\n",
       "      <td>Charleston</td>\n",
       "      <td>United States</td>\n",
       "      <td>25362</td>\n",
       "      <td>Yes</td>\n",
       "    </tr>\n",
       "    <tr>\n",
       "      <th>755</th>\n",
       "      <td>24972-55878-KX</td>\n",
       "      <td>Foster Constance</td>\n",
       "      <td>fconstancekz@ifeng.com</td>\n",
       "      <td>+1 (214) 388-6754</td>\n",
       "      <td>2236 Mitchell Trail</td>\n",
       "      <td>Dallas</td>\n",
       "      <td>United States</td>\n",
       "      <td>75287</td>\n",
       "      <td>No</td>\n",
       "    </tr>\n",
       "    <tr>\n",
       "      <th>716</th>\n",
       "      <td>20077-67239-EC</td>\n",
       "      <td>Selestina Greedyer</td>\n",
       "      <td>sgreedyerjw@parallels.com</td>\n",
       "      <td>+353 (388) 882-1500</td>\n",
       "      <td>9707 Leroy Junction</td>\n",
       "      <td>Castlebellingham</td>\n",
       "      <td>Ireland</td>\n",
       "      <td>Y34</td>\n",
       "      <td>No</td>\n",
       "    </tr>\n",
       "  </tbody>\n",
       "</table>\n",
       "</div>"
      ],
      "text/plain": [
       "        Customer ID         Customer Name                        Email  \\\n",
       "350  99358-65399-TC         Joshuah Awdry          jawdry9q@utexas.edu   \n",
       "812  45009-09239-IV          Micky Glover           mglovermk@cnbc.com   \n",
       "873  16809-16936-WF  Modesty MacConnechie  mmacconnechieo9@reuters.com   \n",
       "755  24972-55878-KX      Foster Constance       fconstancekz@ifeng.com   \n",
       "716  20077-67239-EC    Selestina Greedyer    sgreedyerjw@parallels.com   \n",
       "\n",
       "            Phone Number       Address Line 1              City  \\\n",
       "350    +1 (318) 747-7610  7961 Blackbird Road        Shreveport   \n",
       "812   +44 (898) 129-9218   95 Grasskamp Point          Burnside   \n",
       "873    +1 (304) 620-6008     526 Onsgard Park        Charleston   \n",
       "755    +1 (214) 388-6754  2236 Mitchell Trail            Dallas   \n",
       "716  +353 (388) 882-1500  9707 Leroy Junction  Castlebellingham   \n",
       "\n",
       "            Country Postcode Loyalty Card  \n",
       "350   United States    71137           No  \n",
       "812  United Kingdom     EH52          Yes  \n",
       "873   United States    25362          Yes  \n",
       "755   United States    75287           No  \n",
       "716         Ireland      Y34           No  "
      ]
     },
     "execution_count": 6,
     "metadata": {},
     "output_type": "execute_result"
    }
   ],
   "source": [
    "customersDF.sample(5)"
   ]
  },
  {
   "cell_type": "markdown",
   "id": "48c251ff-1ab6-475a-b5e9-e22191ff9e66",
   "metadata": {},
   "source": [
    "## Validating Data Types\n",
    "We know that we have the right data but we need to ensure that the data we will be analysing is cast correcrtly. <br>\n",
    "the '.dtype' method helps with this."
   ]
  },
  {
   "cell_type": "code",
   "execution_count": 7,
   "id": "f5fcd5bc-1ea6-46df-a676-aae0ca34a2e0",
   "metadata": {},
   "outputs": [
    {
     "data": {
      "text/plain": [
       "Order ID       object\n",
       "Order Date     object\n",
       "Customer ID    object\n",
       "Product ID     object\n",
       "Quantity        int64\n",
       "dtype: object"
      ]
     },
     "execution_count": 7,
     "metadata": {},
     "output_type": "execute_result"
    }
   ],
   "source": [
    "ordersDF.dtypes"
   ]
  },
  {
   "cell_type": "code",
   "execution_count": 8,
   "id": "17a7c959-a01c-444e-af72-9a81b289ee8f",
   "metadata": {},
   "outputs": [
    {
     "data": {
      "text/plain": [
       "Customer ID       object\n",
       "Customer Name     object\n",
       "Email             object\n",
       "Phone Number      object\n",
       "Address Line 1    object\n",
       "City              object\n",
       "Country           object\n",
       "Postcode          object\n",
       "Loyalty Card      object\n",
       "dtype: object"
      ]
     },
     "execution_count": 8,
     "metadata": {},
     "output_type": "execute_result"
    }
   ],
   "source": [
    "customersDF.dtypes"
   ]
  },
  {
   "cell_type": "code",
   "execution_count": 9,
   "id": "b00d9b8c-9901-4b2f-80db-41f3d7bed6de",
   "metadata": {},
   "outputs": [
    {
     "data": {
      "text/plain": [
       "Order ID       object\n",
       "Order Date     object\n",
       "Customer ID    object\n",
       "Product ID     object\n",
       "Quantity        int64\n",
       "dtype: object"
      ]
     },
     "execution_count": 9,
     "metadata": {},
     "output_type": "execute_result"
    }
   ],
   "source": [
    "ordersDF.dtypes"
   ]
  },
  {
   "cell_type": "markdown",
   "id": "18235d02-ff5d-4124-9b8e-bad71a1c972c",
   "metadata": {},
   "source": [
    "In ordersDF it looks like we have to convert 'Order Date' into a datetime type."
   ]
  },
  {
   "cell_type": "code",
   "execution_count": 10,
   "id": "a5ad8fbd-2faa-496a-8463-f0bd5322b220",
   "metadata": {},
   "outputs": [],
   "source": [
    "ordersDF['Order Date'] = pd.to_datetime(ordersDF['Order Date'])"
   ]
  },
  {
   "cell_type": "markdown",
   "id": "eed10733-a922-4d67-b3bb-c72116a6f7be",
   "metadata": {},
   "source": [
    "^^ Notice that above we used this syntax [DF Object].[DF Column Name] <br>\n",
    "We will use this syntax quite a bit in our analysis"
   ]
  },
  {
   "cell_type": "markdown",
   "id": "1eca2b1c-f9e6-41b9-a4b7-f29c9612d2c3",
   "metadata": {},
   "source": [
    "Let's call the .dtypes method once again to verify the change."
   ]
  },
  {
   "cell_type": "code",
   "execution_count": 11,
   "id": "6cdf7613-f405-499f-85e3-eaa831a67b3d",
   "metadata": {},
   "outputs": [
    {
     "data": {
      "text/plain": [
       "Order ID               object\n",
       "Order Date     datetime64[ns]\n",
       "Customer ID            object\n",
       "Product ID             object\n",
       "Quantity                int64\n",
       "dtype: object"
      ]
     },
     "execution_count": 11,
     "metadata": {},
     "output_type": "execute_result"
    }
   ],
   "source": [
    "ordersDF.dtypes"
   ]
  },
  {
   "cell_type": "markdown",
   "id": "5d9baa16-ba16-4555-8ef7-9683014f678c",
   "metadata": {},
   "source": [
    "It looks like the change took."
   ]
  },
  {
   "cell_type": "markdown",
   "id": "a86b809d-1274-49e1-bfa5-3182ac3b8798",
   "metadata": {},
   "source": [
    "The .info() method gives a very high level summary of your dataframe similar, to .dtypes but will give a report of non-null values and aggregates type count and memory usage."
   ]
  },
  {
   "cell_type": "code",
   "execution_count": 12,
   "id": "2dcf7974-6c88-42b1-98ac-3e19d47bbda2",
   "metadata": {},
   "outputs": [
    {
     "name": "stdout",
     "output_type": "stream",
     "text": [
      "<class 'pandas.core.frame.DataFrame'>\n",
      "RangeIndex: 1000 entries, 0 to 999\n",
      "Data columns (total 5 columns):\n",
      " #   Column       Non-Null Count  Dtype         \n",
      "---  ------       --------------  -----         \n",
      " 0   Order ID     1000 non-null   object        \n",
      " 1   Order Date   1000 non-null   datetime64[ns]\n",
      " 2   Customer ID  1000 non-null   object        \n",
      " 3   Product ID   1000 non-null   object        \n",
      " 4   Quantity     1000 non-null   int64         \n",
      "dtypes: datetime64[ns](1), int64(1), object(3)\n",
      "memory usage: 39.2+ KB\n"
     ]
    }
   ],
   "source": [
    "ordersDF.info()"
   ]
  },
  {
   "cell_type": "markdown",
   "id": "2b30340b-c2d1-44f1-9ec9-96ffe987478a",
   "metadata": {},
   "source": [
    "The .describe() method is great for a quick calculation of a given value to the rest of the data set."
   ]
  },
  {
   "cell_type": "code",
   "execution_count": 13,
   "id": "89bfaf37-7f07-4770-99fb-6d4e11fe89b7",
   "metadata": {},
   "outputs": [
    {
     "data": {
      "text/html": [
       "<div>\n",
       "<style scoped>\n",
       "    .dataframe tbody tr th:only-of-type {\n",
       "        vertical-align: middle;\n",
       "    }\n",
       "\n",
       "    .dataframe tbody tr th {\n",
       "        vertical-align: top;\n",
       "    }\n",
       "\n",
       "    .dataframe thead th {\n",
       "        text-align: right;\n",
       "    }\n",
       "</style>\n",
       "<table border=\"1\" class=\"dataframe\">\n",
       "  <thead>\n",
       "    <tr style=\"text-align: right;\">\n",
       "      <th></th>\n",
       "      <th>Order Date</th>\n",
       "      <th>Quantity</th>\n",
       "    </tr>\n",
       "  </thead>\n",
       "  <tbody>\n",
       "    <tr>\n",
       "      <th>count</th>\n",
       "      <td>1000</td>\n",
       "      <td>1000.000000</td>\n",
       "    </tr>\n",
       "    <tr>\n",
       "      <th>mean</th>\n",
       "      <td>2020-11-06 21:07:12</td>\n",
       "      <td>3.551000</td>\n",
       "    </tr>\n",
       "    <tr>\n",
       "      <th>min</th>\n",
       "      <td>2019-01-02 00:00:00</td>\n",
       "      <td>1.000000</td>\n",
       "    </tr>\n",
       "    <tr>\n",
       "      <th>25%</th>\n",
       "      <td>2019-12-17 00:00:00</td>\n",
       "      <td>2.000000</td>\n",
       "    </tr>\n",
       "    <tr>\n",
       "      <th>50%</th>\n",
       "      <td>2020-12-02 12:00:00</td>\n",
       "      <td>4.000000</td>\n",
       "    </tr>\n",
       "    <tr>\n",
       "      <th>75%</th>\n",
       "      <td>2021-10-02 06:00:00</td>\n",
       "      <td>5.000000</td>\n",
       "    </tr>\n",
       "    <tr>\n",
       "      <th>max</th>\n",
       "      <td>2022-08-19 00:00:00</td>\n",
       "      <td>6.000000</td>\n",
       "    </tr>\n",
       "    <tr>\n",
       "      <th>std</th>\n",
       "      <td>NaN</td>\n",
       "      <td>1.681733</td>\n",
       "    </tr>\n",
       "  </tbody>\n",
       "</table>\n",
       "</div>"
      ],
      "text/plain": [
       "                Order Date     Quantity\n",
       "count                 1000  1000.000000\n",
       "mean   2020-11-06 21:07:12     3.551000\n",
       "min    2019-01-02 00:00:00     1.000000\n",
       "25%    2019-12-17 00:00:00     2.000000\n",
       "50%    2020-12-02 12:00:00     4.000000\n",
       "75%    2021-10-02 06:00:00     5.000000\n",
       "max    2022-08-19 00:00:00     6.000000\n",
       "std                    NaN     1.681733"
      ]
     },
     "execution_count": 13,
     "metadata": {},
     "output_type": "execute_result"
    }
   ],
   "source": [
    "ordersDF.describe()"
   ]
  },
  {
   "cell_type": "markdown",
   "id": "3e5f9ad5-13f7-4a5c-ba63-da5595653ba9",
   "metadata": {},
   "source": [
    "This quick description of the stats of a given column are useful and will be used later."
   ]
  },
  {
   "cell_type": "markdown",
   "id": "08b08b91-16f0-4b32-98d3-44209308ae92",
   "metadata": {},
   "source": [
    "## Selecting Rows and Columns\n",
    "We may not need all of the data within a dataframe so let's look at the different ways to select specific data."
   ]
  },
  {
   "cell_type": "markdown",
   "id": "eb30b278-18fa-40b7-ba61-1a8a33a655e3",
   "metadata": {},
   "source": [
    "Below is the syntax for selecting a single column"
   ]
  },
  {
   "cell_type": "code",
   "execution_count": 14,
   "id": "312dec8b-456e-4ef8-b8e0-79df14194a42",
   "metadata": {},
   "outputs": [
    {
     "data": {
      "text/plain": [
       "0      QEV-37451-860\n",
       "1      QEV-37451-860\n",
       "2      FAA-43335-268\n",
       "3      KAC-83089-793\n",
       "4      KAC-83089-793\n",
       "           ...      \n",
       "995    RLM-96511-467\n",
       "996    AEZ-13242-456\n",
       "997    UME-75640-698\n",
       "998    GJC-66474-557\n",
       "999    IRV-20769-219\n",
       "Name: Order ID, Length: 1000, dtype: object"
      ]
     },
     "execution_count": 14,
     "metadata": {},
     "output_type": "execute_result"
    }
   ],
   "source": [
    "ordersDF['Order ID']"
   ]
  },
  {
   "cell_type": "markdown",
   "id": "b8440c00-aa3b-49a4-8116-18edfb75b725",
   "metadata": {},
   "source": [
    "Here is example of selecting multiple columns, notice the bracket syntax."
   ]
  },
  {
   "cell_type": "code",
   "execution_count": 15,
   "id": "fcb64303-9391-4fd6-ae94-7becd9b04777",
   "metadata": {},
   "outputs": [
    {
     "data": {
      "text/html": [
       "<div>\n",
       "<style scoped>\n",
       "    .dataframe tbody tr th:only-of-type {\n",
       "        vertical-align: middle;\n",
       "    }\n",
       "\n",
       "    .dataframe tbody tr th {\n",
       "        vertical-align: top;\n",
       "    }\n",
       "\n",
       "    .dataframe thead th {\n",
       "        text-align: right;\n",
       "    }\n",
       "</style>\n",
       "<table border=\"1\" class=\"dataframe\">\n",
       "  <thead>\n",
       "    <tr style=\"text-align: right;\">\n",
       "      <th></th>\n",
       "      <th>Order ID</th>\n",
       "      <th>Quantity</th>\n",
       "    </tr>\n",
       "  </thead>\n",
       "  <tbody>\n",
       "    <tr>\n",
       "      <th>0</th>\n",
       "      <td>QEV-37451-860</td>\n",
       "      <td>2</td>\n",
       "    </tr>\n",
       "    <tr>\n",
       "      <th>1</th>\n",
       "      <td>QEV-37451-860</td>\n",
       "      <td>5</td>\n",
       "    </tr>\n",
       "    <tr>\n",
       "      <th>2</th>\n",
       "      <td>FAA-43335-268</td>\n",
       "      <td>1</td>\n",
       "    </tr>\n",
       "    <tr>\n",
       "      <th>3</th>\n",
       "      <td>KAC-83089-793</td>\n",
       "      <td>2</td>\n",
       "    </tr>\n",
       "    <tr>\n",
       "      <th>4</th>\n",
       "      <td>KAC-83089-793</td>\n",
       "      <td>2</td>\n",
       "    </tr>\n",
       "    <tr>\n",
       "      <th>...</th>\n",
       "      <td>...</td>\n",
       "      <td>...</td>\n",
       "    </tr>\n",
       "    <tr>\n",
       "      <th>995</th>\n",
       "      <td>RLM-96511-467</td>\n",
       "      <td>1</td>\n",
       "    </tr>\n",
       "    <tr>\n",
       "      <th>996</th>\n",
       "      <td>AEZ-13242-456</td>\n",
       "      <td>5</td>\n",
       "    </tr>\n",
       "    <tr>\n",
       "      <th>997</th>\n",
       "      <td>UME-75640-698</td>\n",
       "      <td>4</td>\n",
       "    </tr>\n",
       "    <tr>\n",
       "      <th>998</th>\n",
       "      <td>GJC-66474-557</td>\n",
       "      <td>1</td>\n",
       "    </tr>\n",
       "    <tr>\n",
       "      <th>999</th>\n",
       "      <td>IRV-20769-219</td>\n",
       "      <td>3</td>\n",
       "    </tr>\n",
       "  </tbody>\n",
       "</table>\n",
       "<p>1000 rows × 2 columns</p>\n",
       "</div>"
      ],
      "text/plain": [
       "          Order ID  Quantity\n",
       "0    QEV-37451-860         2\n",
       "1    QEV-37451-860         5\n",
       "2    FAA-43335-268         1\n",
       "3    KAC-83089-793         2\n",
       "4    KAC-83089-793         2\n",
       "..             ...       ...\n",
       "995  RLM-96511-467         1\n",
       "996  AEZ-13242-456         5\n",
       "997  UME-75640-698         4\n",
       "998  GJC-66474-557         1\n",
       "999  IRV-20769-219         3\n",
       "\n",
       "[1000 rows x 2 columns]"
      ]
     },
     "execution_count": 15,
     "metadata": {},
     "output_type": "execute_result"
    }
   ],
   "source": [
    "ordersDF[['Order ID', 'Quantity']]"
   ]
  },
  {
   "cell_type": "markdown",
   "id": "bc768b1e-eb79-4b75-9d77-9bcfca2d91a8",
   "metadata": {},
   "source": [
    "Below is an example of selecting specific rows. <br> \n",
    "Note that pandas will assign a row index when you load in a data frame. <br>\n",
    "The : symbol acts as 'between' and in the below snippet we are calling rows between 1 and 10"
   ]
  },
  {
   "cell_type": "code",
   "execution_count": 16,
   "id": "b663f624-71c2-4679-952a-9fdc4e9782aa",
   "metadata": {},
   "outputs": [
    {
     "data": {
      "text/html": [
       "<div>\n",
       "<style scoped>\n",
       "    .dataframe tbody tr th:only-of-type {\n",
       "        vertical-align: middle;\n",
       "    }\n",
       "\n",
       "    .dataframe tbody tr th {\n",
       "        vertical-align: top;\n",
       "    }\n",
       "\n",
       "    .dataframe thead th {\n",
       "        text-align: right;\n",
       "    }\n",
       "</style>\n",
       "<table border=\"1\" class=\"dataframe\">\n",
       "  <thead>\n",
       "    <tr style=\"text-align: right;\">\n",
       "      <th></th>\n",
       "      <th>Order ID</th>\n",
       "      <th>Order Date</th>\n",
       "      <th>Customer ID</th>\n",
       "      <th>Product ID</th>\n",
       "      <th>Quantity</th>\n",
       "    </tr>\n",
       "  </thead>\n",
       "  <tbody>\n",
       "    <tr>\n",
       "      <th>1</th>\n",
       "      <td>QEV-37451-860</td>\n",
       "      <td>2019-09-05</td>\n",
       "      <td>17670-51384-MA</td>\n",
       "      <td>E-M-0.5</td>\n",
       "      <td>5</td>\n",
       "    </tr>\n",
       "    <tr>\n",
       "      <th>2</th>\n",
       "      <td>FAA-43335-268</td>\n",
       "      <td>2021-06-17</td>\n",
       "      <td>21125-22134-PX</td>\n",
       "      <td>A-L-1</td>\n",
       "      <td>1</td>\n",
       "    </tr>\n",
       "    <tr>\n",
       "      <th>3</th>\n",
       "      <td>KAC-83089-793</td>\n",
       "      <td>2021-07-15</td>\n",
       "      <td>23806-46781-OU</td>\n",
       "      <td>E-M-1</td>\n",
       "      <td>2</td>\n",
       "    </tr>\n",
       "    <tr>\n",
       "      <th>4</th>\n",
       "      <td>KAC-83089-793</td>\n",
       "      <td>2021-07-15</td>\n",
       "      <td>23806-46781-OU</td>\n",
       "      <td>R-L-2.5</td>\n",
       "      <td>2</td>\n",
       "    </tr>\n",
       "    <tr>\n",
       "      <th>5</th>\n",
       "      <td>CVP-18956-553</td>\n",
       "      <td>2021-08-04</td>\n",
       "      <td>86561-91660-RB</td>\n",
       "      <td>L-D-1</td>\n",
       "      <td>3</td>\n",
       "    </tr>\n",
       "    <tr>\n",
       "      <th>6</th>\n",
       "      <td>IPP-31994-879</td>\n",
       "      <td>2022-01-21</td>\n",
       "      <td>65223-29612-CB</td>\n",
       "      <td>E-D-0.5</td>\n",
       "      <td>3</td>\n",
       "    </tr>\n",
       "    <tr>\n",
       "      <th>7</th>\n",
       "      <td>SNZ-65340-705</td>\n",
       "      <td>2022-05-20</td>\n",
       "      <td>21134-81676-FR</td>\n",
       "      <td>L-L-0.2</td>\n",
       "      <td>1</td>\n",
       "    </tr>\n",
       "    <tr>\n",
       "      <th>8</th>\n",
       "      <td>EZT-46571-659</td>\n",
       "      <td>2019-01-02</td>\n",
       "      <td>03396-68805-ZC</td>\n",
       "      <td>R-M-0.5</td>\n",
       "      <td>3</td>\n",
       "    </tr>\n",
       "    <tr>\n",
       "      <th>9</th>\n",
       "      <td>NWQ-70061-912</td>\n",
       "      <td>2019-09-05</td>\n",
       "      <td>61021-27840-ZN</td>\n",
       "      <td>R-M-0.5</td>\n",
       "      <td>1</td>\n",
       "    </tr>\n",
       "  </tbody>\n",
       "</table>\n",
       "</div>"
      ],
      "text/plain": [
       "        Order ID Order Date     Customer ID Product ID  Quantity\n",
       "1  QEV-37451-860 2019-09-05  17670-51384-MA    E-M-0.5         5\n",
       "2  FAA-43335-268 2021-06-17  21125-22134-PX      A-L-1         1\n",
       "3  KAC-83089-793 2021-07-15  23806-46781-OU      E-M-1         2\n",
       "4  KAC-83089-793 2021-07-15  23806-46781-OU    R-L-2.5         2\n",
       "5  CVP-18956-553 2021-08-04  86561-91660-RB      L-D-1         3\n",
       "6  IPP-31994-879 2022-01-21  65223-29612-CB    E-D-0.5         3\n",
       "7  SNZ-65340-705 2022-05-20  21134-81676-FR    L-L-0.2         1\n",
       "8  EZT-46571-659 2019-01-02  03396-68805-ZC    R-M-0.5         3\n",
       "9  NWQ-70061-912 2019-09-05  61021-27840-ZN    R-M-0.5         1"
      ]
     },
     "execution_count": 16,
     "metadata": {},
     "output_type": "execute_result"
    }
   ],
   "source": [
    "ordersDF[1 : 10]"
   ]
  },
  {
   "cell_type": "markdown",
   "id": "5a9c8f6b-f784-48cb-93d2-9044af9bda1b",
   "metadata": {},
   "source": [
    "## Filtering\n",
    "Below are method for filters data with Pandas <br>\n",
    "In the example below we are surfacing rows where the order quantity was greater than 5 <br> <br>\n",
    "**Note I am only using the .head method to limit to return results and it not a part of the filtering syntax.**"
   ]
  },
  {
   "cell_type": "code",
   "execution_count": 17,
   "id": "30877e1b-332e-4717-83fe-a45be35a7dfc",
   "metadata": {},
   "outputs": [
    {
     "data": {
      "text/html": [
       "<div>\n",
       "<style scoped>\n",
       "    .dataframe tbody tr th:only-of-type {\n",
       "        vertical-align: middle;\n",
       "    }\n",
       "\n",
       "    .dataframe tbody tr th {\n",
       "        vertical-align: top;\n",
       "    }\n",
       "\n",
       "    .dataframe thead th {\n",
       "        text-align: right;\n",
       "    }\n",
       "</style>\n",
       "<table border=\"1\" class=\"dataframe\">\n",
       "  <thead>\n",
       "    <tr style=\"text-align: right;\">\n",
       "      <th></th>\n",
       "      <th>Order ID</th>\n",
       "      <th>Order Date</th>\n",
       "      <th>Customer ID</th>\n",
       "      <th>Product ID</th>\n",
       "      <th>Quantity</th>\n",
       "    </tr>\n",
       "  </thead>\n",
       "  <tbody>\n",
       "    <tr>\n",
       "      <th>16</th>\n",
       "      <td>VAU-44387-624</td>\n",
       "      <td>2019-03-20</td>\n",
       "      <td>99643-51048-IQ</td>\n",
       "      <td>A-M-0.2</td>\n",
       "      <td>6</td>\n",
       "    </tr>\n",
       "    <tr>\n",
       "      <th>17</th>\n",
       "      <td>RDW-33155-159</td>\n",
       "      <td>2019-10-19</td>\n",
       "      <td>62173-15287-CU</td>\n",
       "      <td>A-L-1</td>\n",
       "      <td>6</td>\n",
       "    </tr>\n",
       "    <tr>\n",
       "      <th>21</th>\n",
       "      <td>NUO-20013-488</td>\n",
       "      <td>2020-12-04</td>\n",
       "      <td>03090-88267-BQ</td>\n",
       "      <td>A-D-0.2</td>\n",
       "      <td>6</td>\n",
       "    </tr>\n",
       "    <tr>\n",
       "      <th>31</th>\n",
       "      <td>WOQ-36015-429</td>\n",
       "      <td>2021-09-25</td>\n",
       "      <td>51427-89175-QJ</td>\n",
       "      <td>A-D-0.5</td>\n",
       "      <td>6</td>\n",
       "    </tr>\n",
       "    <tr>\n",
       "      <th>32</th>\n",
       "      <td>WOQ-36015-429</td>\n",
       "      <td>2021-09-25</td>\n",
       "      <td>51427-89175-QJ</td>\n",
       "      <td>L-M-0.5</td>\n",
       "      <td>6</td>\n",
       "    </tr>\n",
       "  </tbody>\n",
       "</table>\n",
       "</div>"
      ],
      "text/plain": [
       "         Order ID Order Date     Customer ID Product ID  Quantity\n",
       "16  VAU-44387-624 2019-03-20  99643-51048-IQ    A-M-0.2         6\n",
       "17  RDW-33155-159 2019-10-19  62173-15287-CU      A-L-1         6\n",
       "21  NUO-20013-488 2020-12-04  03090-88267-BQ    A-D-0.2         6\n",
       "31  WOQ-36015-429 2021-09-25  51427-89175-QJ    A-D-0.5         6\n",
       "32  WOQ-36015-429 2021-09-25  51427-89175-QJ    L-M-0.5         6"
      ]
     },
     "execution_count": 17,
     "metadata": {},
     "output_type": "execute_result"
    }
   ],
   "source": [
    "ordersDF[ordersDF['Quantity'] > 5].head()"
   ]
  },
  {
   "cell_type": "markdown",
   "id": "60caf712-5cf0-46c8-88e9-a9cddc2ef4ab",
   "metadata": {},
   "source": [
    "Because we converted 'Order Date' to datetime earlier we can now filter for dates as well"
   ]
  },
  {
   "cell_type": "code",
   "execution_count": 18,
   "id": "51dd8262-da2f-4c99-b7a6-09517c62a571",
   "metadata": {},
   "outputs": [
    {
     "data": {
      "text/html": [
       "<div>\n",
       "<style scoped>\n",
       "    .dataframe tbody tr th:only-of-type {\n",
       "        vertical-align: middle;\n",
       "    }\n",
       "\n",
       "    .dataframe tbody tr th {\n",
       "        vertical-align: top;\n",
       "    }\n",
       "\n",
       "    .dataframe thead th {\n",
       "        text-align: right;\n",
       "    }\n",
       "</style>\n",
       "<table border=\"1\" class=\"dataframe\">\n",
       "  <thead>\n",
       "    <tr style=\"text-align: right;\">\n",
       "      <th></th>\n",
       "      <th>Order ID</th>\n",
       "      <th>Order Date</th>\n",
       "      <th>Customer ID</th>\n",
       "      <th>Product ID</th>\n",
       "      <th>Quantity</th>\n",
       "    </tr>\n",
       "  </thead>\n",
       "  <tbody>\n",
       "    <tr>\n",
       "      <th>6</th>\n",
       "      <td>IPP-31994-879</td>\n",
       "      <td>2022-01-21</td>\n",
       "      <td>65223-29612-CB</td>\n",
       "      <td>E-D-0.5</td>\n",
       "      <td>3</td>\n",
       "    </tr>\n",
       "    <tr>\n",
       "      <th>7</th>\n",
       "      <td>SNZ-65340-705</td>\n",
       "      <td>2022-05-20</td>\n",
       "      <td>21134-81676-FR</td>\n",
       "      <td>L-L-0.2</td>\n",
       "      <td>1</td>\n",
       "    </tr>\n",
       "    <tr>\n",
       "      <th>12</th>\n",
       "      <td>SZW-48378-399</td>\n",
       "      <td>2022-07-02</td>\n",
       "      <td>34136-36674-OM</td>\n",
       "      <td>R-M-1</td>\n",
       "      <td>5</td>\n",
       "    </tr>\n",
       "    <tr>\n",
       "      <th>14</th>\n",
       "      <td>GNZ-46006-527</td>\n",
       "      <td>2022-04-05</td>\n",
       "      <td>95875-73336-RG</td>\n",
       "      <td>L-D-0.2</td>\n",
       "      <td>3</td>\n",
       "    </tr>\n",
       "    <tr>\n",
       "      <th>15</th>\n",
       "      <td>FYQ-78248-319</td>\n",
       "      <td>2022-06-07</td>\n",
       "      <td>25473-43727-BY</td>\n",
       "      <td>R-M-2.5</td>\n",
       "      <td>5</td>\n",
       "    </tr>\n",
       "  </tbody>\n",
       "</table>\n",
       "</div>"
      ],
      "text/plain": [
       "         Order ID Order Date     Customer ID Product ID  Quantity\n",
       "6   IPP-31994-879 2022-01-21  65223-29612-CB    E-D-0.5         3\n",
       "7   SNZ-65340-705 2022-05-20  21134-81676-FR    L-L-0.2         1\n",
       "12  SZW-48378-399 2022-07-02  34136-36674-OM      R-M-1         5\n",
       "14  GNZ-46006-527 2022-04-05  95875-73336-RG    L-D-0.2         3\n",
       "15  FYQ-78248-319 2022-06-07  25473-43727-BY    R-M-2.5         5"
      ]
     },
     "execution_count": 18,
     "metadata": {},
     "output_type": "execute_result"
    }
   ],
   "source": [
    "ordersDF[ordersDF['Order Date'] > '2022-01-01'].head()"
   ]
  },
  {
   "cell_type": "markdown",
   "id": "d747459c-aa7c-4044-9976-fbf958dc9379",
   "metadata": {},
   "source": [
    "Below is an example of how a column can be selected and then filtered. <br>\n",
    "Looking for orders after 2022-01-01"
   ]
  },
  {
   "cell_type": "code",
   "execution_count": 19,
   "id": "3fdbafd0-9c49-49eb-8e83-2bb6c07203e1",
   "metadata": {},
   "outputs": [
    {
     "data": {
      "text/plain": [
       "6    2022-01-21\n",
       "7    2022-05-20\n",
       "12   2022-07-02\n",
       "14   2022-04-05\n",
       "15   2022-06-07\n",
       "Name: Order Date, dtype: datetime64[ns]"
      ]
     },
     "execution_count": 19,
     "metadata": {},
     "output_type": "execute_result"
    }
   ],
   "source": [
    "ordersDF['Order Date'][ordersDF['Order Date'] > '2022-01-01'].head()"
   ]
  },
  {
   "cell_type": "markdown",
   "id": "fbeeee85-ec0b-4cee-902a-db68bfe65bfa",
   "metadata": {},
   "source": [
    "Same as above but with multiple columns selected and then filtered. <br>\n",
    "Looking for Orders quantity greater than 4"
   ]
  },
  {
   "cell_type": "code",
   "execution_count": 20,
   "id": "95d51e0a-6e90-4c12-b441-8ec93c694d97",
   "metadata": {},
   "outputs": [
    {
     "data": {
      "text/html": [
       "<div>\n",
       "<style scoped>\n",
       "    .dataframe tbody tr th:only-of-type {\n",
       "        vertical-align: middle;\n",
       "    }\n",
       "\n",
       "    .dataframe tbody tr th {\n",
       "        vertical-align: top;\n",
       "    }\n",
       "\n",
       "    .dataframe thead th {\n",
       "        text-align: right;\n",
       "    }\n",
       "</style>\n",
       "<table border=\"1\" class=\"dataframe\">\n",
       "  <thead>\n",
       "    <tr style=\"text-align: right;\">\n",
       "      <th></th>\n",
       "      <th>Order ID</th>\n",
       "      <th>Quantity</th>\n",
       "      <th>Customer ID</th>\n",
       "    </tr>\n",
       "  </thead>\n",
       "  <tbody>\n",
       "    <tr>\n",
       "      <th>1</th>\n",
       "      <td>QEV-37451-860</td>\n",
       "      <td>5</td>\n",
       "      <td>17670-51384-MA</td>\n",
       "    </tr>\n",
       "    <tr>\n",
       "      <th>11</th>\n",
       "      <td>VQR-01002-970</td>\n",
       "      <td>5</td>\n",
       "      <td>49315-21985-BB</td>\n",
       "    </tr>\n",
       "    <tr>\n",
       "      <th>12</th>\n",
       "      <td>SZW-48378-399</td>\n",
       "      <td>5</td>\n",
       "      <td>34136-36674-OM</td>\n",
       "    </tr>\n",
       "    <tr>\n",
       "      <th>15</th>\n",
       "      <td>FYQ-78248-319</td>\n",
       "      <td>5</td>\n",
       "      <td>25473-43727-BY</td>\n",
       "    </tr>\n",
       "    <tr>\n",
       "      <th>16</th>\n",
       "      <td>VAU-44387-624</td>\n",
       "      <td>6</td>\n",
       "      <td>99643-51048-IQ</td>\n",
       "    </tr>\n",
       "  </tbody>\n",
       "</table>\n",
       "</div>"
      ],
      "text/plain": [
       "         Order ID  Quantity     Customer ID\n",
       "1   QEV-37451-860         5  17670-51384-MA\n",
       "11  VQR-01002-970         5  49315-21985-BB\n",
       "12  SZW-48378-399         5  34136-36674-OM\n",
       "15  FYQ-78248-319         5  25473-43727-BY\n",
       "16  VAU-44387-624         6  99643-51048-IQ"
      ]
     },
     "execution_count": 20,
     "metadata": {},
     "output_type": "execute_result"
    }
   ],
   "source": [
    "ordersDF[['Order ID', 'Quantity', 'Customer ID']][ordersDF['Quantity'] > 4].head()"
   ]
  },
  {
   "cell_type": "markdown",
   "id": "96f88f8a-0814-4a42-9cdc-52c7820949c6",
   "metadata": {},
   "source": [
    "Below is an example of how we search for a specific value. <br>\n",
    "Looking for orders that had a Product ID of 'E-D-0.5'"
   ]
  },
  {
   "cell_type": "code",
   "execution_count": 21,
   "id": "c78d4a9e-f5ce-4bc9-bc40-7b41b4d64f0d",
   "metadata": {},
   "outputs": [
    {
     "data": {
      "text/html": [
       "<div>\n",
       "<style scoped>\n",
       "    .dataframe tbody tr th:only-of-type {\n",
       "        vertical-align: middle;\n",
       "    }\n",
       "\n",
       "    .dataframe tbody tr th {\n",
       "        vertical-align: top;\n",
       "    }\n",
       "\n",
       "    .dataframe thead th {\n",
       "        text-align: right;\n",
       "    }\n",
       "</style>\n",
       "<table border=\"1\" class=\"dataframe\">\n",
       "  <thead>\n",
       "    <tr style=\"text-align: right;\">\n",
       "      <th></th>\n",
       "      <th>Order ID</th>\n",
       "      <th>Order Date</th>\n",
       "      <th>Customer ID</th>\n",
       "      <th>Product ID</th>\n",
       "      <th>Quantity</th>\n",
       "    </tr>\n",
       "  </thead>\n",
       "  <tbody>\n",
       "    <tr>\n",
       "      <th>6</th>\n",
       "      <td>IPP-31994-879</td>\n",
       "      <td>2022-01-21</td>\n",
       "      <td>65223-29612-CB</td>\n",
       "      <td>E-D-0.5</td>\n",
       "      <td>3</td>\n",
       "    </tr>\n",
       "    <tr>\n",
       "      <th>118</th>\n",
       "      <td>RFH-64349-897</td>\n",
       "      <td>2019-10-22</td>\n",
       "      <td>61954-61462-RJ</td>\n",
       "      <td>E-D-0.5</td>\n",
       "      <td>3</td>\n",
       "    </tr>\n",
       "    <tr>\n",
       "      <th>131</th>\n",
       "      <td>VDZ-76673-968</td>\n",
       "      <td>2020-12-31</td>\n",
       "      <td>82246-82543-DW</td>\n",
       "      <td>E-D-0.5</td>\n",
       "      <td>2</td>\n",
       "    </tr>\n",
       "    <tr>\n",
       "      <th>162</th>\n",
       "      <td>CBT-55781-720</td>\n",
       "      <td>2021-11-15</td>\n",
       "      <td>97855-54761-IS</td>\n",
       "      <td>E-D-0.5</td>\n",
       "      <td>3</td>\n",
       "    </tr>\n",
       "    <tr>\n",
       "      <th>164</th>\n",
       "      <td>BYU-58154-603</td>\n",
       "      <td>2020-12-17</td>\n",
       "      <td>51971-70393-QM</td>\n",
       "      <td>E-D-0.5</td>\n",
       "      <td>4</td>\n",
       "    </tr>\n",
       "  </tbody>\n",
       "</table>\n",
       "</div>"
      ],
      "text/plain": [
       "          Order ID Order Date     Customer ID Product ID  Quantity\n",
       "6    IPP-31994-879 2022-01-21  65223-29612-CB    E-D-0.5         3\n",
       "118  RFH-64349-897 2019-10-22  61954-61462-RJ    E-D-0.5         3\n",
       "131  VDZ-76673-968 2020-12-31  82246-82543-DW    E-D-0.5         2\n",
       "162  CBT-55781-720 2021-11-15  97855-54761-IS    E-D-0.5         3\n",
       "164  BYU-58154-603 2020-12-17  51971-70393-QM    E-D-0.5         4"
      ]
     },
     "execution_count": 21,
     "metadata": {},
     "output_type": "execute_result"
    }
   ],
   "source": [
    "ordersDF[ordersDF['Product ID']=='E-D-0.5'].head()"
   ]
  },
  {
   "cell_type": "markdown",
   "id": "2087c4b2-4c5e-4927-8d82-70fc1e662301",
   "metadata": {},
   "source": [
    "**It's important to note though we have done filtering, none of the datarames have been explicitely altered.** <br>\n",
    "To do that you would use the following syntax: <br> \n",
    "<ins>newDF = ordersDF[['Order ID', 'Quantity', 'Customer ID']][ordersDF['Quantity'] > 4].head() <ins/> <br>\n",
    "Note that this would create a new dataframe with the filters you applied."
   ]
  },
  {
   "cell_type": "markdown",
   "id": "c4f4a676-c608-4ce8-80ce-9bb3988dd7db",
   "metadata": {},
   "source": [
    "## Aggregation methods"
   ]
  },
  {
   "cell_type": "markdown",
   "id": "520737b5-4a33-461a-a234-df2fb725c4d1",
   "metadata": {},
   "source": [
    "There are some nifty quick aggreagations we can do against our data to understand it more."
   ]
  },
  {
   "cell_type": "markdown",
   "id": "cfb877f2-2898-4cd0-8c92-230a60cc1e5b",
   "metadata": {},
   "source": [
    "The below syntax selects the Order ID columns, filters to having Quantity greater than 5, and returns the count of rows that meet the criteria <br>\n",
    "The .count() methods returns the number of rows meeting any criteria; returns all if no criteria is provided."
   ]
  },
  {
   "cell_type": "code",
   "execution_count": 22,
   "id": "8a34bc0a-3107-4a56-bbe6-c72149ba22c1",
   "metadata": {},
   "outputs": [
    {
     "data": {
      "text/plain": [
       "175"
      ]
     },
     "execution_count": 22,
     "metadata": {},
     "output_type": "execute_result"
    }
   ],
   "source": [
    "ordersDF['Order ID'][ordersDF['Quantity'] > 5].count()"
   ]
  },
  {
   "cell_type": "markdown",
   "id": "9894124a-b10b-4327-a574-e5f15d7a33e9",
   "metadata": {},
   "source": [
    "The below syntax returns a count of every row for each column."
   ]
  },
  {
   "cell_type": "code",
   "execution_count": 23,
   "id": "1023727c-ee7b-42b6-86c7-044195513559",
   "metadata": {},
   "outputs": [
    {
     "data": {
      "text/plain": [
       "Order ID       1000\n",
       "Order Date     1000\n",
       "Customer ID    1000\n",
       "Product ID     1000\n",
       "Quantity       1000\n",
       "dtype: int64"
      ]
     },
     "execution_count": 23,
     "metadata": {},
     "output_type": "execute_result"
    }
   ],
   "source": [
    "ordersDF.count()"
   ]
  },
  {
   "cell_type": "markdown",
   "id": "ef2cba99-a88e-407b-82a5-fcea09987501",
   "metadata": {},
   "source": [
    "The two statments above can be used in calculations as well. Below is example of extracting the percentage of orders that had a quantiy greater than 5."
   ]
  },
  {
   "cell_type": "code",
   "execution_count": 24,
   "id": "c533a148-a0db-46a8-8ca8-ff28d88b46ec",
   "metadata": {},
   "outputs": [
    {
     "data": {
      "text/plain": [
       "0.175"
      ]
     },
     "execution_count": 24,
     "metadata": {},
     "output_type": "execute_result"
    }
   ],
   "source": [
    "ordersDF['Order ID'][ordersDF['Quantity'] > 5].count() / ordersDF['Order ID'].count()"
   ]
  },
  {
   "cell_type": "markdown",
   "id": "3a4b27e6-c604-4e08-95b2-c500e6e04ec4",
   "metadata": {},
   "source": [
    "The .sum() method can be used on INT data types to return the sum values."
   ]
  },
  {
   "cell_type": "code",
   "execution_count": 25,
   "id": "9e4e9f6c-3cc8-4d7b-a2cd-926783fe4c0e",
   "metadata": {},
   "outputs": [
    {
     "data": {
      "text/plain": [
       "3551"
      ]
     },
     "execution_count": 25,
     "metadata": {},
     "output_type": "execute_result"
    }
   ],
   "source": [
    "ordersDF['Quantity'].sum()"
   ]
  },
  {
   "cell_type": "markdown",
   "id": "95c4ae8e-5df9-443e-9341-bd39cf95c311",
   "metadata": {},
   "source": [
    "## Finding Missing Values\n",
    "The below methods are used to understand NaN (missing values) presented in your data."
   ]
  },
  {
   "cell_type": "markdown",
   "id": "8eb24886-ac2b-4858-8e3c-462de3509b21",
   "metadata": {},
   "source": [
    "The **.isnull()** method when used will return the table will BOOLEAN values depending on whether NaN is present."
   ]
  },
  {
   "cell_type": "code",
   "execution_count": 26,
   "id": "74754561-a1da-4f2e-9ffb-c4dd46cae2d9",
   "metadata": {},
   "outputs": [
    {
     "data": {
      "text/html": [
       "<div>\n",
       "<style scoped>\n",
       "    .dataframe tbody tr th:only-of-type {\n",
       "        vertical-align: middle;\n",
       "    }\n",
       "\n",
       "    .dataframe tbody tr th {\n",
       "        vertical-align: top;\n",
       "    }\n",
       "\n",
       "    .dataframe thead th {\n",
       "        text-align: right;\n",
       "    }\n",
       "</style>\n",
       "<table border=\"1\" class=\"dataframe\">\n",
       "  <thead>\n",
       "    <tr style=\"text-align: right;\">\n",
       "      <th></th>\n",
       "      <th>Customer ID</th>\n",
       "      <th>Customer Name</th>\n",
       "      <th>Email</th>\n",
       "      <th>Phone Number</th>\n",
       "      <th>Address Line 1</th>\n",
       "      <th>City</th>\n",
       "      <th>Country</th>\n",
       "      <th>Postcode</th>\n",
       "      <th>Loyalty Card</th>\n",
       "    </tr>\n",
       "  </thead>\n",
       "  <tbody>\n",
       "    <tr>\n",
       "      <th>0</th>\n",
       "      <td>False</td>\n",
       "      <td>False</td>\n",
       "      <td>False</td>\n",
       "      <td>False</td>\n",
       "      <td>False</td>\n",
       "      <td>False</td>\n",
       "      <td>False</td>\n",
       "      <td>False</td>\n",
       "      <td>False</td>\n",
       "    </tr>\n",
       "    <tr>\n",
       "      <th>1</th>\n",
       "      <td>False</td>\n",
       "      <td>False</td>\n",
       "      <td>False</td>\n",
       "      <td>False</td>\n",
       "      <td>False</td>\n",
       "      <td>False</td>\n",
       "      <td>False</td>\n",
       "      <td>False</td>\n",
       "      <td>False</td>\n",
       "    </tr>\n",
       "    <tr>\n",
       "      <th>2</th>\n",
       "      <td>False</td>\n",
       "      <td>False</td>\n",
       "      <td>False</td>\n",
       "      <td>False</td>\n",
       "      <td>False</td>\n",
       "      <td>False</td>\n",
       "      <td>False</td>\n",
       "      <td>False</td>\n",
       "      <td>False</td>\n",
       "    </tr>\n",
       "    <tr>\n",
       "      <th>3</th>\n",
       "      <td>False</td>\n",
       "      <td>False</td>\n",
       "      <td>False</td>\n",
       "      <td>False</td>\n",
       "      <td>False</td>\n",
       "      <td>False</td>\n",
       "      <td>False</td>\n",
       "      <td>False</td>\n",
       "      <td>False</td>\n",
       "    </tr>\n",
       "    <tr>\n",
       "      <th>4</th>\n",
       "      <td>False</td>\n",
       "      <td>False</td>\n",
       "      <td>True</td>\n",
       "      <td>False</td>\n",
       "      <td>False</td>\n",
       "      <td>False</td>\n",
       "      <td>False</td>\n",
       "      <td>False</td>\n",
       "      <td>False</td>\n",
       "    </tr>\n",
       "    <tr>\n",
       "      <th>...</th>\n",
       "      <td>...</td>\n",
       "      <td>...</td>\n",
       "      <td>...</td>\n",
       "      <td>...</td>\n",
       "      <td>...</td>\n",
       "      <td>...</td>\n",
       "      <td>...</td>\n",
       "      <td>...</td>\n",
       "      <td>...</td>\n",
       "    </tr>\n",
       "    <tr>\n",
       "      <th>995</th>\n",
       "      <td>False</td>\n",
       "      <td>False</td>\n",
       "      <td>False</td>\n",
       "      <td>False</td>\n",
       "      <td>False</td>\n",
       "      <td>False</td>\n",
       "      <td>False</td>\n",
       "      <td>False</td>\n",
       "      <td>False</td>\n",
       "    </tr>\n",
       "    <tr>\n",
       "      <th>996</th>\n",
       "      <td>False</td>\n",
       "      <td>False</td>\n",
       "      <td>True</td>\n",
       "      <td>False</td>\n",
       "      <td>False</td>\n",
       "      <td>False</td>\n",
       "      <td>False</td>\n",
       "      <td>False</td>\n",
       "      <td>False</td>\n",
       "    </tr>\n",
       "    <tr>\n",
       "      <th>997</th>\n",
       "      <td>False</td>\n",
       "      <td>False</td>\n",
       "      <td>True</td>\n",
       "      <td>False</td>\n",
       "      <td>False</td>\n",
       "      <td>False</td>\n",
       "      <td>False</td>\n",
       "      <td>False</td>\n",
       "      <td>False</td>\n",
       "    </tr>\n",
       "    <tr>\n",
       "      <th>998</th>\n",
       "      <td>False</td>\n",
       "      <td>False</td>\n",
       "      <td>False</td>\n",
       "      <td>False</td>\n",
       "      <td>False</td>\n",
       "      <td>False</td>\n",
       "      <td>False</td>\n",
       "      <td>False</td>\n",
       "      <td>False</td>\n",
       "    </tr>\n",
       "    <tr>\n",
       "      <th>999</th>\n",
       "      <td>False</td>\n",
       "      <td>False</td>\n",
       "      <td>True</td>\n",
       "      <td>False</td>\n",
       "      <td>False</td>\n",
       "      <td>False</td>\n",
       "      <td>False</td>\n",
       "      <td>False</td>\n",
       "      <td>False</td>\n",
       "    </tr>\n",
       "  </tbody>\n",
       "</table>\n",
       "<p>1000 rows × 9 columns</p>\n",
       "</div>"
      ],
      "text/plain": [
       "     Customer ID  Customer Name  Email  Phone Number  Address Line 1   City  \\\n",
       "0          False          False  False         False           False  False   \n",
       "1          False          False  False         False           False  False   \n",
       "2          False          False  False         False           False  False   \n",
       "3          False          False  False         False           False  False   \n",
       "4          False          False   True         False           False  False   \n",
       "..           ...            ...    ...           ...             ...    ...   \n",
       "995        False          False  False         False           False  False   \n",
       "996        False          False   True         False           False  False   \n",
       "997        False          False   True         False           False  False   \n",
       "998        False          False  False         False           False  False   \n",
       "999        False          False   True         False           False  False   \n",
       "\n",
       "     Country  Postcode  Loyalty Card  \n",
       "0      False     False         False  \n",
       "1      False     False         False  \n",
       "2      False     False         False  \n",
       "3      False     False         False  \n",
       "4      False     False         False  \n",
       "..       ...       ...           ...  \n",
       "995    False     False         False  \n",
       "996    False     False         False  \n",
       "997    False     False         False  \n",
       "998    False     False         False  \n",
       "999    False     False         False  \n",
       "\n",
       "[1000 rows x 9 columns]"
      ]
     },
     "execution_count": 26,
     "metadata": {},
     "output_type": "execute_result"
    }
   ],
   "source": [
    "customersDF.isnull()"
   ]
  },
  {
   "cell_type": "markdown",
   "id": "9d7b8476-a6d8-4b10-85ef-349bb64fb26d",
   "metadata": {},
   "source": [
    "If you want to check if any values are null against a dataframe the .value.any() method can be called."
   ]
  },
  {
   "cell_type": "code",
   "execution_count": 27,
   "id": "738b1b5a-dc14-4a70-8cc5-52ba707c506d",
   "metadata": {},
   "outputs": [
    {
     "data": {
      "text/plain": [
       "True"
      ]
     },
     "execution_count": 27,
     "metadata": {},
     "output_type": "execute_result"
    }
   ],
   "source": [
    "customersDF.isnull().values.any()"
   ]
  },
  {
   "cell_type": "markdown",
   "id": "ea5900c7-c393-4f82-80f8-c960ef9a7675",
   "metadata": {},
   "source": [
    "^^ We can see that in customersDF there are NaN values that exist. <br>"
   ]
  },
  {
   "cell_type": "markdown",
   "id": "ff5eced7-fe27-4247-a9c7-4e8e3b2d0794",
   "metadata": {},
   "source": [
    "We can chain the .sum() method to .isnull() to count the number of missing values for each column"
   ]
  },
  {
   "cell_type": "code",
   "execution_count": 28,
   "id": "552f1c9b-7dde-4a67-a855-524931f7c7fe",
   "metadata": {},
   "outputs": [
    {
     "data": {
      "text/plain": [
       "Customer ID         0\n",
       "Customer Name       0\n",
       "Email             204\n",
       "Phone Number      130\n",
       "Address Line 1      0\n",
       "City                0\n",
       "Country             0\n",
       "Postcode            0\n",
       "Loyalty Card        0\n",
       "dtype: int64"
      ]
     },
     "execution_count": 28,
     "metadata": {},
     "output_type": "execute_result"
    }
   ],
   "source": [
    "customersDF.isnull().sum()"
   ]
  },
  {
   "cell_type": "markdown",
   "id": "caa83fb5-d0dc-4d00-ae68-5d67289a3250",
   "metadata": {},
   "source": [
    "Further we can do calculations to get the NaN percentage."
   ]
  },
  {
   "cell_type": "code",
   "execution_count": 29,
   "id": "34a20bc6-afe6-4eeb-a5fe-cb96e46f4de0",
   "metadata": {},
   "outputs": [
    {
     "data": {
      "text/plain": [
       "Customer ID       0.000000\n",
       "Customer Name     0.000000\n",
       "Email             0.256281\n",
       "Phone Number      0.149425\n",
       "Address Line 1    0.000000\n",
       "City              0.000000\n",
       "Country           0.000000\n",
       "Postcode          0.000000\n",
       "Loyalty Card      0.000000\n",
       "dtype: float64"
      ]
     },
     "execution_count": 29,
     "metadata": {},
     "output_type": "execute_result"
    }
   ],
   "source": [
    "customersDF.isnull().sum() / customersDF.count()"
   ]
  },
  {
   "cell_type": "markdown",
   "id": "8abf4fa7-591e-44ff-a412-3380c0e8627d",
   "metadata": {},
   "source": [
    "## Treating Missing Values"
   ]
  },
  {
   "cell_type": "markdown",
   "id": "2f818b4c-6885-4d1b-a869-7553babba0b1",
   "metadata": {},
   "source": [
    "Pandas has a few builtin method that we call call to treat missing values are there are generally two solutions. <br>\n",
    "**Solution 1** - Fill the NaN values with data (which itself has two methodologies) <br>\n",
    "**Solution 2** - Drop the missing by either column or row"
   ]
  },
  {
   "cell_type": "markdown",
   "id": "899ed0f8-4d32-4d69-872c-1571e6054ed2",
   "metadata": {},
   "source": [
    "Below we go any further though lets create a new DF that contains missing values."
   ]
  },
  {
   "cell_type": "code",
   "execution_count": 45,
   "id": "1c0148a3-0a5d-4d30-831c-c6cb596e4fc4",
   "metadata": {},
   "outputs": [],
   "source": [
    "nanDF = ordersDF['Quantity']\n",
    "\n",
    "## .loc allows us to specific rows and columns we want to target for a given action\n",
    "nanDF.loc[20:25] = np.NaN\n",
    "\n",
    "## np.NaN is a method that drops values from the location specified\n",
    "nanDF.loc[100:105] = np.NaN "
   ]
  },
  {
   "cell_type": "markdown",
   "id": "81495957-9ed5-43ca-a488-93083bf4ad7b",
   "metadata": {},
   "source": [
    "Now let's ensure that we have NaN values in our new dataset."
   ]
  },
  {
   "cell_type": "code",
   "execution_count": 40,
   "id": "2663d7ea-25b9-430f-b61b-265255a57d50",
   "metadata": {},
   "outputs": [
    {
     "data": {
      "text/plain": [
       "True"
      ]
     },
     "execution_count": 40,
     "metadata": {},
     "output_type": "execute_result"
    }
   ],
   "source": [
    "nanDF.isnull().values.any()"
   ]
  },
  {
   "cell_type": "markdown",
   "id": "519d37eb-64d2-46a6-89ae-2e13b6c0631f",
   "metadata": {},
   "source": [
    "Great, we can see that NaN values are populated but let's ensure that there is only 12 missing values."
   ]
  },
  {
   "cell_type": "code",
   "execution_count": 41,
   "id": "e1dc614d-f775-4a2b-b458-a705fbcd5b0e",
   "metadata": {},
   "outputs": [
    {
     "data": {
      "text/plain": [
       "12"
      ]
     },
     "execution_count": 41,
     "metadata": {},
     "output_type": "execute_result"
    }
   ],
   "source": [
    "nanDF.isnull().sum()"
   ]
  },
  {
   "cell_type": "code",
   "execution_count": 43,
   "id": "a0f2bcb5-d3ff-456a-9a2a-6ee64242ceda",
   "metadata": {},
   "outputs": [
    {
     "data": {
      "text/plain": [
       "20   NaN\n",
       "21   NaN\n",
       "22   NaN\n",
       "23   NaN\n",
       "24   NaN\n",
       "25   NaN\n",
       "Name: Quantity, dtype: float64"
      ]
     },
     "execution_count": 43,
     "metadata": {},
     "output_type": "execute_result"
    }
   ],
   "source": [
    "nanDF.loc[20:25]"
   ]
  },
  {
   "cell_type": "code",
   "execution_count": 44,
   "id": "bbe912d1-416e-4b26-8085-a48e46315a99",
   "metadata": {},
   "outputs": [
    {
     "data": {
      "text/plain": [
       "100   NaN\n",
       "101   NaN\n",
       "102   NaN\n",
       "103   NaN\n",
       "104   NaN\n",
       "105   NaN\n",
       "Name: Quantity, dtype: float64"
      ]
     },
     "execution_count": 44,
     "metadata": {},
     "output_type": "execute_result"
    }
   ],
   "source": [
    "nanDF.loc[100:105]"
   ]
  },
  {
   "cell_type": "markdown",
   "id": "d4f9c2cf-a2a7-45d2-b3c8-a4449f598cad",
   "metadata": {},
   "source": [
    "Ok now that we have verified there are missing values, let's treat them."
   ]
  },
  {
   "cell_type": "markdown",
   "id": "2ef91299-a14b-4fc6-9019-5a4e55b10510",
   "metadata": {},
   "source": [
    "#### Dropping missing values"
   ]
  },
  {
   "cell_type": "markdown",
   "id": "fef7dcb0-2e0b-410b-89dd-e0be1ac4400e",
   "metadata": {},
   "source": [
    "First let's drop the missing values on the row level."
   ]
  },
  {
   "cell_type": "code",
   "execution_count": 47,
   "id": "344d39ab-9007-4565-ac56-2b03a10ebd3a",
   "metadata": {},
   "outputs": [],
   "source": [
    "## The .dropna() method will drop any rows that contains a missing value. \n",
    "droppedDF = nanDF.dropna()"
   ]
  },
  {
   "cell_type": "markdown",
   "id": "08486abe-cbf4-4327-bbe8-1ec7d3f5d06b",
   "metadata": {},
   "source": [
    "**Note: This will drop the entire row, where any NaN exists** <br>\n",
    "<br>\n",
    "Let's compare the dataframes."
   ]
  },
  {
   "cell_type": "code",
   "execution_count": 64,
   "id": "7163d23c-e733-48d0-87bb-88a74e9c71c0",
   "metadata": {},
   "outputs": [
    {
     "data": {
      "text/plain": [
       "1000"
      ]
     },
     "execution_count": 64,
     "metadata": {},
     "output_type": "execute_result"
    }
   ],
   "source": [
    "## len() is a python function that returns the length of object that is passed in.\n",
    "len(nanDF)"
   ]
  },
  {
   "cell_type": "code",
   "execution_count": 63,
   "id": "4cc76b19-6f58-402d-8773-e4fecdf518cb",
   "metadata": {},
   "outputs": [
    {
     "data": {
      "text/plain": [
       "988"
      ]
     },
     "execution_count": 63,
     "metadata": {},
     "output_type": "execute_result"
    }
   ],
   "source": [
    "len(droppedDF)"
   ]
  },
  {
   "cell_type": "markdown",
   "id": "6544070b-0947-4140-91ec-4b691f71a8f0",
   "metadata": {},
   "source": [
    "^^ We can see that 12 rows have been dropped."
   ]
  },
  {
   "cell_type": "markdown",
   "id": "64ee5c28-03da-4f9e-936d-24da14837a97",
   "metadata": {},
   "source": [
    "If you want to drop columns with missing data use the syntax: <br>\n",
    "<ins> myDF.dropna(axis=1) <ins/> <br>"
   ]
  },
  {
   "cell_type": "markdown",
   "id": "e38cb43a-b592-49c0-b1e9-36ced93e7a3b",
   "metadata": {},
   "source": [
    "This cannot be performed in a single column DF."
   ]
  },
  {
   "cell_type": "markdown",
   "id": "d3495e90-c429-42b2-8566-e09bff8e691a",
   "metadata": {},
   "source": [
    "#### Filling missing values"
   ]
  },
  {
   "cell_type": "markdown",
   "id": "317be426-1de3-4c8f-ad96-f671134e9d36",
   "metadata": {},
   "source": [
    "There are two method of filling missing values: <br>\n",
    "**Method 1** - Using approximate values <br>\n",
    "**Method 2** - Using previous row's data"
   ]
  },
  {
   "cell_type": "markdown",
   "id": "523d3439-d0de-4c31-b147-9cc49665ba5d",
   "metadata": {},
   "source": [
    "##### Method 1"
   ]
  },
  {
   "cell_type": "code",
   "execution_count": 70,
   "id": "2bd0bc67-9b7a-4236-9923-423f93145f3e",
   "metadata": {},
   "outputs": [
    {
     "data": {
      "text/plain": [
       "count    988.000000\n",
       "mean       3.545547\n",
       "std        1.682784\n",
       "min        1.000000\n",
       "25%        2.000000\n",
       "50%        3.500000\n",
       "75%        5.000000\n",
       "max        6.000000\n",
       "Name: Quantity, dtype: float64"
      ]
     },
     "execution_count": 70,
     "metadata": {},
     "output_type": "execute_result"
    }
   ],
   "source": [
    "nanDF.describe()"
   ]
  },
  {
   "cell_type": "markdown",
   "id": "1d3cca17-106a-476b-8f03-48afd1772b45",
   "metadata": {},
   "source": [
    "The mean of this dataframe is 3.545547, let's round up to 4 and fill in the missing values."
   ]
  },
  {
   "cell_type": "code",
   "execution_count": 76,
   "id": "f8e33a4c-66ea-4fa0-b672-388933dbf7c5",
   "metadata": {},
   "outputs": [
    {
     "data": {
      "text/plain": [
       "20    4.0\n",
       "21    4.0\n",
       "22    4.0\n",
       "23    4.0\n",
       "24    4.0\n",
       "25    4.0\n",
       "Name: Quantity, dtype: float64"
      ]
     },
     "execution_count": 76,
     "metadata": {},
     "output_type": "execute_result"
    }
   ],
   "source": [
    "## .fillna() is the method used for populating NaN values.\n",
    "fillDF = nanDF.fillna(4)\n",
    "\n",
    "##Verify popoulation by checking the location of the previously missing values.\n",
    "fillDF.loc[20:25]"
   ]
  },
  {
   "cell_type": "code",
   "execution_count": 77,
   "id": "e3bc24fa-d23e-43fe-8e27-a506664fd212",
   "metadata": {},
   "outputs": [
    {
     "data": {
      "text/plain": [
       "count    1000.00000\n",
       "mean        3.55100\n",
       "std         1.67338\n",
       "min         1.00000\n",
       "25%         2.00000\n",
       "50%         4.00000\n",
       "75%         5.00000\n",
       "max         6.00000\n",
       "Name: Quantity, dtype: float64"
      ]
     },
     "execution_count": 77,
     "metadata": {},
     "output_type": "execute_result"
    }
   ],
   "source": [
    "fillDF.describe()"
   ]
  },
  {
   "cell_type": "markdown",
   "id": "cfa9bb5d-ebf3-4679-ac44-9cb8bb608cf8",
   "metadata": {},
   "source": [
    "^^ We can see there is only a slight deviation to the data presented on the mean, std and 50th percentile."
   ]
  },
  {
   "cell_type": "markdown",
   "id": "fc005104-43aa-4548-85c5-b67efdc1cde1",
   "metadata": {},
   "source": [
    "##### Method 2"
   ]
  },
  {
   "cell_type": "code",
   "execution_count": 82,
   "id": "0920fac1-3916-4f13-8dd9-4b3a6e440921",
   "metadata": {},
   "outputs": [
    {
     "data": {
      "text/plain": [
       "20    5.0\n",
       "21    5.0\n",
       "22    5.0\n",
       "23    5.0\n",
       "24    5.0\n",
       "25    5.0\n",
       "Name: Quantity, dtype: float64"
      ]
     },
     "execution_count": 82,
     "metadata": {},
     "output_type": "execute_result"
    }
   ],
   "source": [
    "## the .ffill() method uses values from the row before the NaN to populate.\n",
    "fillDF2 = nanDF.ffill()\n",
    "\n",
    "fillDF2.loc[20:25]"
   ]
  },
  {
   "cell_type": "markdown",
   "id": "839d522f-dc9b-41cd-b73c-bfd9190a968e",
   "metadata": {},
   "source": [
    "We can see that row 19 had a value of 5 and populated to the missing values."
   ]
  },
  {
   "cell_type": "code",
   "execution_count": null,
   "id": "71947562-c291-4d2f-9ff4-d2a3b47e1565",
   "metadata": {},
   "outputs": [],
   "source": []
  }
 ],
 "metadata": {
  "kernelspec": {
   "display_name": "Python 3 (ipykernel)",
   "language": "python",
   "name": "python3"
  },
  "language_info": {
   "codemirror_mode": {
    "name": "ipython",
    "version": 3
   },
   "file_extension": ".py",
   "mimetype": "text/x-python",
   "name": "python",
   "nbconvert_exporter": "python",
   "pygments_lexer": "ipython3",
   "version": "3.9.6"
  }
 },
 "nbformat": 4,
 "nbformat_minor": 5
}

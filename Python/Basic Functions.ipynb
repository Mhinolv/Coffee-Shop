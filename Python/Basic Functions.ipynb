{
 "cells": [
  {
   "cell_type": "markdown",
   "id": "2c96c975-8c2b-4493-bd8e-d2e64308063e",
   "metadata": {},
   "source": [
    "## Import"
   ]
  },
  {
   "cell_type": "code",
   "execution_count": 8,
   "id": "f5b97cc8-177b-4792-8111-d452f18547ed",
   "metadata": {},
   "outputs": [],
   "source": [
    "import pandas as pd\n",
    "import seaborn as sns\n",
    "import matplotlib as plt"
   ]
  },
  {
   "cell_type": "code",
   "execution_count": 4,
   "id": "0d51c741-8e40-4141-b94e-dcfbf2b9077e",
   "metadata": {},
   "outputs": [],
   "source": [
    "path = '/Users/markhinojosa/coffee-shop/Raw Data/CUSTOMERS.csv'"
   ]
  },
  {
   "cell_type": "code",
   "execution_count": 15,
   "id": "3265b21c-ba28-48f5-9f7f-70fea9e58aba",
   "metadata": {},
   "outputs": [
    {
     "name": "stdout",
     "output_type": "stream",
     "text": [
      "<class 'pandas.core.frame.DataFrame'>\n",
      "RangeIndex: 1000 entries, 0 to 999\n",
      "Data columns (total 9 columns):\n",
      " #   Column          Non-Null Count  Dtype \n",
      "---  ------          --------------  ----- \n",
      " 0   Customer ID     1000 non-null   object\n",
      " 1   Customer Name   1000 non-null   object\n",
      " 2   Email           796 non-null    object\n",
      " 3   Phone Number    870 non-null    object\n",
      " 4   Address Line 1  1000 non-null   object\n",
      " 5   City            1000 non-null   object\n",
      " 6   Country         1000 non-null   object\n",
      " 7   Postcode        1000 non-null   object\n",
      " 8   Loyalty Card    1000 non-null   object\n",
      "dtypes: object(9)\n",
      "memory usage: 70.4+ KB\n"
     ]
    }
   ],
   "source": [
    "customersDF = pd.read_csv(path)\n",
    "customersDF.info()"
   ]
  },
  {
   "cell_type": "markdown",
   "id": "87ecc4df-d206-4a17-9cac-08ed76809c2a",
   "metadata": {},
   "source": [
    "## Nulls"
   ]
  },
  {
   "cell_type": "code",
   "execution_count": 19,
   "id": "bb582beb-2e72-475f-b711-ffa788734ff3",
   "metadata": {},
   "outputs": [
    {
     "data": {
      "text/plain": [
       "Customer ID         0\n",
       "Customer Name       0\n",
       "Email             204\n",
       "Phone Number      130\n",
       "Address Line 1      0\n",
       "City                0\n",
       "Country             0\n",
       "Postcode            0\n",
       "Loyalty Card        0\n",
       "dtype: int64"
      ]
     },
     "execution_count": 19,
     "metadata": {},
     "output_type": "execute_result"
    }
   ],
   "source": [
    "customersDF.isnull().sum()"
   ]
  },
  {
   "cell_type": "code",
   "execution_count": 24,
   "id": "00f5d6a0-6b88-4b96-9e6e-dbe6bc86bc88",
   "metadata": {},
   "outputs": [],
   "source": [
    "filledCustomersD = customersDF.fillna('None')"
   ]
  },
  {
   "cell_type": "code",
   "execution_count": 25,
   "id": "c5d5d208-adda-4db9-b568-7a2dfbf06e11",
   "metadata": {},
   "outputs": [],
   "source": [
    "droppedCustomersDF = customersDF.dropna()"
   ]
  },
  {
   "cell_type": "code",
   "execution_count": 27,
   "id": "b7dd1b78-1f9b-4382-8e6e-f7ead9f5971a",
   "metadata": {},
   "outputs": [
    {
     "name": "stdout",
     "output_type": "stream",
     "text": [
      "<class 'pandas.core.frame.DataFrame'>\n",
      "Index: 691 entries, 0 to 998\n",
      "Data columns (total 9 columns):\n",
      " #   Column          Non-Null Count  Dtype \n",
      "---  ------          --------------  ----- \n",
      " 0   Customer ID     691 non-null    object\n",
      " 1   Customer Name   691 non-null    object\n",
      " 2   Email           691 non-null    object\n",
      " 3   Phone Number    691 non-null    object\n",
      " 4   Address Line 1  691 non-null    object\n",
      " 5   City            691 non-null    object\n",
      " 6   Country         691 non-null    object\n",
      " 7   Postcode        691 non-null    object\n",
      " 8   Loyalty Card    691 non-null    object\n",
      "dtypes: object(9)\n",
      "memory usage: 54.0+ KB\n"
     ]
    }
   ],
   "source": [
    "droppedCustomersDF.info()"
   ]
  },
  {
   "cell_type": "code",
   "execution_count": null,
   "id": "ca4ba4ce-0c5c-43f6-876c-fe380356505a",
   "metadata": {},
   "outputs": [],
   "source": []
  }
 ],
 "metadata": {
  "kernelspec": {
   "display_name": "Python 3 (ipykernel)",
   "language": "python",
   "name": "python3"
  },
  "language_info": {
   "codemirror_mode": {
    "name": "ipython",
    "version": 3
   },
   "file_extension": ".py",
   "mimetype": "text/x-python",
   "name": "python",
   "nbconvert_exporter": "python",
   "pygments_lexer": "ipython3",
   "version": "3.9.6"
  }
 },
 "nbformat": 4,
 "nbformat_minor": 5
}

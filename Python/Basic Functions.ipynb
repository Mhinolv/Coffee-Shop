{
 "cells": [
  {
   "cell_type": "markdown",
   "id": "2c96c975-8c2b-4493-bd8e-d2e64308063e",
   "metadata": {},
   "source": [
    "## Import"
   ]
  },
  {
   "cell_type": "code",
   "execution_count": 44,
   "id": "f5b97cc8-177b-4792-8111-d452f18547ed",
   "metadata": {},
   "outputs": [],
   "source": [
    "import pandas as pd\n",
    "import seaborn as sns\n",
    "import matplotlib.pyplot as plt"
   ]
  },
  {
   "cell_type": "code",
   "execution_count": 23,
   "id": "0d51c741-8e40-4141-b94e-dcfbf2b9077e",
   "metadata": {},
   "outputs": [],
   "source": [
    "path = '/Users/markhinojosa/coffee-shop/Raw Data/ORDERS.csv'"
   ]
  },
  {
   "cell_type": "code",
   "execution_count": 25,
   "id": "3265b21c-ba28-48f5-9f7f-70fea9e58aba",
   "metadata": {},
   "outputs": [
    {
     "name": "stdout",
     "output_type": "stream",
     "text": [
      "<class 'pandas.core.frame.DataFrame'>\n",
      "RangeIndex: 1000 entries, 0 to 999\n",
      "Data columns (total 5 columns):\n",
      " #   Column       Non-Null Count  Dtype \n",
      "---  ------       --------------  ----- \n",
      " 0   Order ID     1000 non-null   object\n",
      " 1   Order Date   1000 non-null   object\n",
      " 2   Customer ID  1000 non-null   object\n",
      " 3   Product ID   1000 non-null   object\n",
      " 4   Quantity     1000 non-null   int64 \n",
      "dtypes: int64(1), object(4)\n",
      "memory usage: 39.2+ KB\n"
     ]
    }
   ],
   "source": [
    "ordersDF = pd.read_csv(path)\n",
    "ordersDF.info()"
   ]
  },
  {
   "cell_type": "markdown",
   "id": "87ecc4df-d206-4a17-9cac-08ed76809c2a",
   "metadata": {},
   "source": [
    "## Nulls"
   ]
  },
  {
   "cell_type": "code",
   "execution_count": 26,
   "id": "bb582beb-2e72-475f-b711-ffa788734ff3",
   "metadata": {},
   "outputs": [
    {
     "data": {
      "text/plain": [
       "Order ID       0\n",
       "Order Date     0\n",
       "Customer ID    0\n",
       "Product ID     0\n",
       "Quantity       0\n",
       "dtype: int64"
      ]
     },
     "execution_count": 26,
     "metadata": {},
     "output_type": "execute_result"
    }
   ],
   "source": [
    "ordersDF.isnull().sum()"
   ]
  },
  {
   "cell_type": "markdown",
   "id": "eb67cceb-fbb9-49ac-8db6-f805ad649d69",
   "metadata": {},
   "source": [
    "## Grouping"
   ]
  },
  {
   "cell_type": "code",
   "execution_count": 73,
   "id": "b567976d-c9a4-4a9d-b4d1-c345886cdbff",
   "metadata": {},
   "outputs": [
    {
     "data": {
      "text/html": [
       "<div>\n",
       "<style scoped>\n",
       "    .dataframe tbody tr th:only-of-type {\n",
       "        vertical-align: middle;\n",
       "    }\n",
       "\n",
       "    .dataframe tbody tr th {\n",
       "        vertical-align: top;\n",
       "    }\n",
       "\n",
       "    .dataframe thead th {\n",
       "        text-align: right;\n",
       "    }\n",
       "</style>\n",
       "<table border=\"1\" class=\"dataframe\">\n",
       "  <thead>\n",
       "    <tr style=\"text-align: right;\">\n",
       "      <th></th>\n",
       "      <th>Order ID</th>\n",
       "    </tr>\n",
       "    <tr>\n",
       "      <th>Product ID</th>\n",
       "      <th></th>\n",
       "    </tr>\n",
       "  </thead>\n",
       "  <tbody>\n",
       "    <tr>\n",
       "      <th>A-D-0.2</th>\n",
       "      <td>27</td>\n",
       "    </tr>\n",
       "    <tr>\n",
       "      <th>A-D-0.5</th>\n",
       "      <td>23</td>\n",
       "    </tr>\n",
       "    <tr>\n",
       "      <th>A-D-1</th>\n",
       "      <td>16</td>\n",
       "    </tr>\n",
       "    <tr>\n",
       "      <th>A-D-2.5</th>\n",
       "      <td>20</td>\n",
       "    </tr>\n",
       "    <tr>\n",
       "      <th>A-L-0.2</th>\n",
       "      <td>17</td>\n",
       "    </tr>\n",
       "  </tbody>\n",
       "</table>\n",
       "</div>"
      ],
      "text/plain": [
       "            Order ID\n",
       "Product ID          \n",
       "A-D-0.2           27\n",
       "A-D-0.5           23\n",
       "A-D-1             16\n",
       "A-D-2.5           20\n",
       "A-L-0.2           17"
      ]
     },
     "execution_count": 73,
     "metadata": {},
     "output_type": "execute_result"
    }
   ],
   "source": [
    "ordersDF[['Order ID', 'Product ID']].groupby(['Product ID']).count().head()"
   ]
  },
  {
   "cell_type": "code",
   "execution_count": 79,
   "id": "93667cc4-e6a2-4460-9df1-686bdae009c3",
   "metadata": {},
   "outputs": [
    {
     "data": {
      "text/html": [
       "<div>\n",
       "<style scoped>\n",
       "    .dataframe tbody tr th:only-of-type {\n",
       "        vertical-align: middle;\n",
       "    }\n",
       "\n",
       "    .dataframe tbody tr th {\n",
       "        vertical-align: top;\n",
       "    }\n",
       "\n",
       "    .dataframe thead th {\n",
       "        text-align: right;\n",
       "    }\n",
       "</style>\n",
       "<table border=\"1\" class=\"dataframe\">\n",
       "  <thead>\n",
       "    <tr style=\"text-align: right;\">\n",
       "      <th></th>\n",
       "      <th>Quantity</th>\n",
       "    </tr>\n",
       "    <tr>\n",
       "      <th>Product ID</th>\n",
       "      <th></th>\n",
       "    </tr>\n",
       "  </thead>\n",
       "  <tbody>\n",
       "    <tr>\n",
       "      <th>A-D-0.2</th>\n",
       "      <td>97</td>\n",
       "    </tr>\n",
       "    <tr>\n",
       "      <th>A-D-0.5</th>\n",
       "      <td>89</td>\n",
       "    </tr>\n",
       "    <tr>\n",
       "      <th>A-D-1</th>\n",
       "      <td>49</td>\n",
       "    </tr>\n",
       "    <tr>\n",
       "      <th>A-D-2.5</th>\n",
       "      <td>76</td>\n",
       "    </tr>\n",
       "    <tr>\n",
       "      <th>A-L-0.2</th>\n",
       "      <td>50</td>\n",
       "    </tr>\n",
       "  </tbody>\n",
       "</table>\n",
       "</div>"
      ],
      "text/plain": [
       "            Quantity\n",
       "Product ID          \n",
       "A-D-0.2           97\n",
       "A-D-0.5           89\n",
       "A-D-1             49\n",
       "A-D-2.5           76\n",
       "A-L-0.2           50"
      ]
     },
     "execution_count": 79,
     "metadata": {},
     "output_type": "execute_result"
    }
   ],
   "source": [
    "ordersDF[['Product ID', 'Quantity']].groupby(['Product ID']).sum().head()"
   ]
  },
  {
   "cell_type": "markdown",
   "id": "435e2f46-79a9-48e3-9789-e54e87bce809",
   "metadata": {},
   "source": [
    "## Converting and Adding Columns"
   ]
  },
  {
   "cell_type": "code",
   "execution_count": 30,
   "id": "284eee54-04e9-4716-91e9-9f97b16b583c",
   "metadata": {},
   "outputs": [],
   "source": [
    "ordersDF['Order Date'] = pd.to_datetime(ordersDF['Order Date'])"
   ]
  },
  {
   "cell_type": "code",
   "execution_count": 35,
   "id": "509416be-9e81-4e9e-99f1-f3d802a1f783",
   "metadata": {},
   "outputs": [],
   "source": [
    "ordersDF['month'] = ordersDF['Order Date'].dt.month"
   ]
  },
  {
   "cell_type": "code",
   "execution_count": 80,
   "id": "ad729678-e4b2-4c36-aaf4-44dcd173e8ce",
   "metadata": {},
   "outputs": [
    {
     "data": {
      "text/html": [
       "<div>\n",
       "<style scoped>\n",
       "    .dataframe tbody tr th:only-of-type {\n",
       "        vertical-align: middle;\n",
       "    }\n",
       "\n",
       "    .dataframe tbody tr th {\n",
       "        vertical-align: top;\n",
       "    }\n",
       "\n",
       "    .dataframe thead th {\n",
       "        text-align: right;\n",
       "    }\n",
       "</style>\n",
       "<table border=\"1\" class=\"dataframe\">\n",
       "  <thead>\n",
       "    <tr style=\"text-align: right;\">\n",
       "      <th></th>\n",
       "      <th>Order ID</th>\n",
       "      <th>Order Date</th>\n",
       "      <th>Customer ID</th>\n",
       "      <th>Product ID</th>\n",
       "      <th>Quantity</th>\n",
       "      <th>month</th>\n",
       "    </tr>\n",
       "  </thead>\n",
       "  <tbody>\n",
       "    <tr>\n",
       "      <th>0</th>\n",
       "      <td>QEV-37451-860</td>\n",
       "      <td>2019-09-05</td>\n",
       "      <td>17670-51384-MA</td>\n",
       "      <td>R-M-1</td>\n",
       "      <td>2</td>\n",
       "      <td>9</td>\n",
       "    </tr>\n",
       "    <tr>\n",
       "      <th>1</th>\n",
       "      <td>QEV-37451-860</td>\n",
       "      <td>2019-09-05</td>\n",
       "      <td>17670-51384-MA</td>\n",
       "      <td>E-M-0.5</td>\n",
       "      <td>5</td>\n",
       "      <td>9</td>\n",
       "    </tr>\n",
       "    <tr>\n",
       "      <th>2</th>\n",
       "      <td>FAA-43335-268</td>\n",
       "      <td>2021-06-17</td>\n",
       "      <td>21125-22134-PX</td>\n",
       "      <td>A-L-1</td>\n",
       "      <td>1</td>\n",
       "      <td>6</td>\n",
       "    </tr>\n",
       "    <tr>\n",
       "      <th>3</th>\n",
       "      <td>KAC-83089-793</td>\n",
       "      <td>2021-07-15</td>\n",
       "      <td>23806-46781-OU</td>\n",
       "      <td>E-M-1</td>\n",
       "      <td>2</td>\n",
       "      <td>7</td>\n",
       "    </tr>\n",
       "    <tr>\n",
       "      <th>4</th>\n",
       "      <td>KAC-83089-793</td>\n",
       "      <td>2021-07-15</td>\n",
       "      <td>23806-46781-OU</td>\n",
       "      <td>R-L-2.5</td>\n",
       "      <td>2</td>\n",
       "      <td>7</td>\n",
       "    </tr>\n",
       "  </tbody>\n",
       "</table>\n",
       "</div>"
      ],
      "text/plain": [
       "        Order ID Order Date     Customer ID Product ID  Quantity  month\n",
       "0  QEV-37451-860 2019-09-05  17670-51384-MA      R-M-1         2      9\n",
       "1  QEV-37451-860 2019-09-05  17670-51384-MA    E-M-0.5         5      9\n",
       "2  FAA-43335-268 2021-06-17  21125-22134-PX      A-L-1         1      6\n",
       "3  KAC-83089-793 2021-07-15  23806-46781-OU      E-M-1         2      7\n",
       "4  KAC-83089-793 2021-07-15  23806-46781-OU    R-L-2.5         2      7"
      ]
     },
     "execution_count": 80,
     "metadata": {},
     "output_type": "execute_result"
    }
   ],
   "source": [
    "ordersDF.head()"
   ]
  },
  {
   "cell_type": "code",
   "execution_count": 77,
   "id": "67eb074f-5e1b-4655-985f-8069176a0389",
   "metadata": {},
   "outputs": [],
   "source": [
    "avgSalesPerMonthDF = ordersDF[['month', 'Quantity']].groupby(['month']).sum()"
   ]
  },
  {
   "cell_type": "code",
   "execution_count": 78,
   "id": "8868a748-af9a-45da-a6e1-ea3582b254b9",
   "metadata": {},
   "outputs": [
    {
     "data": {
      "image/png": "[encoded data removed]",
      "text/plain": [
       "<Figure size 640x480 with 1 Axes>"
      ]
     },
     "metadata": {},
     "output_type": "display_data"
    }
   ],
   "source": [
    "barGraph = sns.barplot(\n",
    "            x='month', \n",
    "            y='Quantity', \n",
    "            color='blue',\n",
    "            data=avgSalesPerMonthDF, \n",
    "            linewidth=0)\n",
    "\n",
    "for i in barGraph.containers:\n",
    "    barGraph.bar_label(i,)\n",
    "    \n",
    "plt.show()"
   ]
  },
  {
   "cell_type": "code",
   "execution_count": null,
   "id": "c47a9257-bec0-416c-ae63-1cf386909cd1",
   "metadata": {},
   "outputs": [],
   "source": []
  }
 ],
 "metadata": {
  "kernelspec": {
   "display_name": "Python 3 (ipykernel)",
   "language": "python",
   "name": "python3"
  },
  "language_info": {
   "codemirror_mode": {
    "name": "ipython",
    "version": 3
   },
   "file_extension": ".py",
   "mimetype": "text/x-python",
   "name": "python",
   "nbconvert_exporter": "python",
   "pygments_lexer": "ipython3",
   "version": "3.9.6"
  }
 },
 "nbformat": 4,
 "nbformat_minor": 5
}

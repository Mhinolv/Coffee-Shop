{
 "cells": [
  {
   "cell_type": "markdown",
   "id": "9aaad61a-4887-4812-ab86-76541b11b4cb",
   "metadata": {},
   "source": [
    "### Pandas Playground"
   ]
  },
  {
   "cell_type": "markdown",
   "id": "1ae95f6f-9f88-4835-b26f-ea397fe26830",
   "metadata": {},
   "source": [
    "We will start by loading the necessary libraries we will be using."
   ]
  },
  {
   "cell_type": "code",
   "execution_count": 3,
   "id": "5b35ff7a-b18d-490e-bdcd-648dcb520fc3",
   "metadata": {},
   "outputs": [],
   "source": [
    "import pandas as pd\n",
    "import numpy as np\n",
    "import seaborn as sns\n",
    "import matplotlib as plt\n",
    "import jinja2 as jnj"
   ]
  },
  {
   "cell_type": "markdown",
   "id": "b306533b-b0fb-4157-a154-3ac87ce0f6bc",
   "metadata": {},
   "source": [
    "Now that we have imported our libraries let's lead python to the .csv files we will be using <br>\n",
    "Notice that we are creating variables for each of the pathways, this makes it easy to call later."
   ]
  },
  {
   "cell_type": "code",
   "execution_count": 65,
   "id": "2d283e19-7b56-4ce4-b04e-0a6fe3011f00",
   "metadata": {},
   "outputs": [],
   "source": [
    "orders = '/Users/markhinojosa/coffee-shop/Raw Data/ORDERS.csv'\n",
    "products = '/Users/markhinojosa/coffee-shop/Raw Data/PRODUCTS.csv'\n",
    "customers = '/Users/markhinojosa/coffee-shop/Raw Data/CUSTOMERS.csv'"
   ]
  },
  {
   "cell_type": "markdown",
   "id": "3703bedf-0be0-4f62-9767-6138d1fe5c7b",
   "metadata": {},
   "source": [
    "We have our filepaths variables ready to go, let's feed through Pandas to create our Dataframes.<br>\n",
    "[Learn More About Dataframes](https://realpython.com/pandas-dataframe/#:~:text=The%20pandas%20DataFrame%20is%20a,with%20in%20Excel%20or%20Calc.)"
   ]
  },
  {
   "cell_type": "code",
   "execution_count": 68,
   "id": "e13092ea-3cc5-4f59-9a6e-35a8967eccdd",
   "metadata": {},
   "outputs": [],
   "source": [
    "ordersDF = pd.read_csv(orders)\n",
    "productsDF = pd.read_csv(products)\n",
    "customersDF = pd.read_csv(customers)"
   ]
  },
  {
   "cell_type": "markdown",
   "id": "bef2e887-8424-4428-a4f7-7e5676011b2e",
   "metadata": {},
   "source": [
    "#### Data Population Validation\n",
    "Our data has been loaded, but let's verify that is is populating correctly."
   ]
  },
  {
   "cell_type": "code",
   "execution_count": 143,
   "id": "73657d7d-a21c-4176-941c-b4547eb0d473",
   "metadata": {},
   "outputs": [
    {
     "data": {
      "text/html": [
       "<div>\n",
       "<style scoped>\n",
       "    .dataframe tbody tr th:only-of-type {\n",
       "        vertical-align: middle;\n",
       "    }\n",
       "\n",
       "    .dataframe tbody tr th {\n",
       "        vertical-align: top;\n",
       "    }\n",
       "\n",
       "    .dataframe thead th {\n",
       "        text-align: right;\n",
       "    }\n",
       "</style>\n",
       "<table border=\"1\" class=\"dataframe\">\n",
       "  <thead>\n",
       "    <tr style=\"text-align: right;\">\n",
       "      <th></th>\n",
       "      <th>Order ID</th>\n",
       "      <th>Order Date</th>\n",
       "      <th>Customer ID</th>\n",
       "      <th>Product ID</th>\n",
       "      <th>Quantity</th>\n",
       "    </tr>\n",
       "  </thead>\n",
       "  <tbody>\n",
       "    <tr>\n",
       "      <th>0</th>\n",
       "      <td>QEV-37451-860</td>\n",
       "      <td>2019-09-05</td>\n",
       "      <td>17670-51384-MA</td>\n",
       "      <td>R-M-1</td>\n",
       "      <td>2</td>\n",
       "    </tr>\n",
       "    <tr>\n",
       "      <th>1</th>\n",
       "      <td>QEV-37451-860</td>\n",
       "      <td>2019-09-05</td>\n",
       "      <td>17670-51384-MA</td>\n",
       "      <td>E-M-0.5</td>\n",
       "      <td>5</td>\n",
       "    </tr>\n",
       "    <tr>\n",
       "      <th>2</th>\n",
       "      <td>FAA-43335-268</td>\n",
       "      <td>2021-06-17</td>\n",
       "      <td>21125-22134-PX</td>\n",
       "      <td>A-L-1</td>\n",
       "      <td>1</td>\n",
       "    </tr>\n",
       "    <tr>\n",
       "      <th>3</th>\n",
       "      <td>KAC-83089-793</td>\n",
       "      <td>2021-07-15</td>\n",
       "      <td>23806-46781-OU</td>\n",
       "      <td>E-M-1</td>\n",
       "      <td>2</td>\n",
       "    </tr>\n",
       "    <tr>\n",
       "      <th>4</th>\n",
       "      <td>KAC-83089-793</td>\n",
       "      <td>2021-07-15</td>\n",
       "      <td>23806-46781-OU</td>\n",
       "      <td>R-L-2.5</td>\n",
       "      <td>2</td>\n",
       "    </tr>\n",
       "  </tbody>\n",
       "</table>\n",
       "</div>"
      ],
      "text/plain": [
       "        Order ID Order Date     Customer ID Product ID  Quantity\n",
       "0  QEV-37451-860 2019-09-05  17670-51384-MA      R-M-1         2\n",
       "1  QEV-37451-860 2019-09-05  17670-51384-MA    E-M-0.5         5\n",
       "2  FAA-43335-268 2021-06-17  21125-22134-PX      A-L-1         1\n",
       "3  KAC-83089-793 2021-07-15  23806-46781-OU      E-M-1         2\n",
       "4  KAC-83089-793 2021-07-15  23806-46781-OU    R-L-2.5         2"
      ]
     },
     "execution_count": 143,
     "metadata": {},
     "output_type": "execute_result"
    }
   ],
   "source": [
    "ordersDF.head()"
   ]
  },
  {
   "cell_type": "code",
   "execution_count": 144,
   "id": "2067337a-4d0d-469b-9f72-82b56e2eadb5",
   "metadata": {},
   "outputs": [
    {
     "data": {
      "text/html": [
       "<div>\n",
       "<style scoped>\n",
       "    .dataframe tbody tr th:only-of-type {\n",
       "        vertical-align: middle;\n",
       "    }\n",
       "\n",
       "    .dataframe tbody tr th {\n",
       "        vertical-align: top;\n",
       "    }\n",
       "\n",
       "    .dataframe thead th {\n",
       "        text-align: right;\n",
       "    }\n",
       "</style>\n",
       "<table border=\"1\" class=\"dataframe\">\n",
       "  <thead>\n",
       "    <tr style=\"text-align: right;\">\n",
       "      <th></th>\n",
       "      <th>Product ID</th>\n",
       "      <th>Coffee Type</th>\n",
       "      <th>Roast Type</th>\n",
       "      <th>Size</th>\n",
       "      <th>Unit Price</th>\n",
       "      <th>Price per 100g</th>\n",
       "      <th>Profit</th>\n",
       "    </tr>\n",
       "  </thead>\n",
       "  <tbody>\n",
       "    <tr>\n",
       "      <th>0</th>\n",
       "      <td>A-L-0.2</td>\n",
       "      <td>Ara</td>\n",
       "      <td>L</td>\n",
       "      <td>0.2</td>\n",
       "      <td>3.885</td>\n",
       "      <td>1.9425</td>\n",
       "      <td>0.34965</td>\n",
       "    </tr>\n",
       "    <tr>\n",
       "      <th>1</th>\n",
       "      <td>A-L-0.5</td>\n",
       "      <td>Ara</td>\n",
       "      <td>L</td>\n",
       "      <td>0.5</td>\n",
       "      <td>7.770</td>\n",
       "      <td>1.5540</td>\n",
       "      <td>0.69930</td>\n",
       "    </tr>\n",
       "    <tr>\n",
       "      <th>2</th>\n",
       "      <td>A-L-1</td>\n",
       "      <td>Ara</td>\n",
       "      <td>L</td>\n",
       "      <td>1.0</td>\n",
       "      <td>12.950</td>\n",
       "      <td>1.2950</td>\n",
       "      <td>1.16550</td>\n",
       "    </tr>\n",
       "    <tr>\n",
       "      <th>3</th>\n",
       "      <td>A-L-2.5</td>\n",
       "      <td>Ara</td>\n",
       "      <td>L</td>\n",
       "      <td>2.5</td>\n",
       "      <td>29.785</td>\n",
       "      <td>1.1914</td>\n",
       "      <td>2.68065</td>\n",
       "    </tr>\n",
       "    <tr>\n",
       "      <th>4</th>\n",
       "      <td>A-M-0.2</td>\n",
       "      <td>Ara</td>\n",
       "      <td>M</td>\n",
       "      <td>0.2</td>\n",
       "      <td>3.375</td>\n",
       "      <td>1.6875</td>\n",
       "      <td>0.30375</td>\n",
       "    </tr>\n",
       "  </tbody>\n",
       "</table>\n",
       "</div>"
      ],
      "text/plain": [
       "  Product ID Coffee Type Roast Type  Size  Unit Price  Price per 100g   Profit\n",
       "0    A-L-0.2         Ara          L   0.2       3.885          1.9425  0.34965\n",
       "1    A-L-0.5         Ara          L   0.5       7.770          1.5540  0.69930\n",
       "2      A-L-1         Ara          L   1.0      12.950          1.2950  1.16550\n",
       "3    A-L-2.5         Ara          L   2.5      29.785          1.1914  2.68065\n",
       "4    A-M-0.2         Ara          M   0.2       3.375          1.6875  0.30375"
      ]
     },
     "execution_count": 144,
     "metadata": {},
     "output_type": "execute_result"
    }
   ],
   "source": [
    "productsDF.head()"
   ]
  },
  {
   "cell_type": "code",
   "execution_count": 145,
   "id": "57c8a239-65ca-4562-9fa8-b4bfc7de9b73",
   "metadata": {},
   "outputs": [
    {
     "data": {
      "text/html": [
       "<div>\n",
       "<style scoped>\n",
       "    .dataframe tbody tr th:only-of-type {\n",
       "        vertical-align: middle;\n",
       "    }\n",
       "\n",
       "    .dataframe tbody tr th {\n",
       "        vertical-align: top;\n",
       "    }\n",
       "\n",
       "    .dataframe thead th {\n",
       "        text-align: right;\n",
       "    }\n",
       "</style>\n",
       "<table border=\"1\" class=\"dataframe\">\n",
       "  <thead>\n",
       "    <tr style=\"text-align: right;\">\n",
       "      <th></th>\n",
       "      <th>Customer ID</th>\n",
       "      <th>Customer Name</th>\n",
       "      <th>Email</th>\n",
       "      <th>Phone Number</th>\n",
       "      <th>Address Line 1</th>\n",
       "      <th>City</th>\n",
       "      <th>Country</th>\n",
       "      <th>Postcode</th>\n",
       "      <th>Loyalty Card</th>\n",
       "    </tr>\n",
       "  </thead>\n",
       "  <tbody>\n",
       "    <tr>\n",
       "      <th>0</th>\n",
       "      <td>17670-51384-MA</td>\n",
       "      <td>Aloisia Allner</td>\n",
       "      <td>aallner0@lulu.com</td>\n",
       "      <td>+1 (862) 817-0124</td>\n",
       "      <td>57999 Pepper Wood Alley</td>\n",
       "      <td>Paterson</td>\n",
       "      <td>United States</td>\n",
       "      <td>7505</td>\n",
       "      <td>Yes</td>\n",
       "    </tr>\n",
       "    <tr>\n",
       "      <th>1</th>\n",
       "      <td>73342-18763-UW</td>\n",
       "      <td>Piotr Bote</td>\n",
       "      <td>pbote1@yelp.com</td>\n",
       "      <td>+353 (913) 396-4653</td>\n",
       "      <td>2112 Ridgeway Hill</td>\n",
       "      <td>Crumlin</td>\n",
       "      <td>Ireland</td>\n",
       "      <td>D6W</td>\n",
       "      <td>No</td>\n",
       "    </tr>\n",
       "    <tr>\n",
       "      <th>2</th>\n",
       "      <td>21125-22134-PX</td>\n",
       "      <td>Jami Redholes</td>\n",
       "      <td>jredholes2@tmall.com</td>\n",
       "      <td>+1 (210) 986-6806</td>\n",
       "      <td>5214 Bartillon Park</td>\n",
       "      <td>San Antonio</td>\n",
       "      <td>United States</td>\n",
       "      <td>78205</td>\n",
       "      <td>Yes</td>\n",
       "    </tr>\n",
       "    <tr>\n",
       "      <th>3</th>\n",
       "      <td>71253-00052-RN</td>\n",
       "      <td>Dene Azema</td>\n",
       "      <td>dazema3@facebook.com</td>\n",
       "      <td>+1 (217) 418-0714</td>\n",
       "      <td>27 Maywood Place</td>\n",
       "      <td>Springfield</td>\n",
       "      <td>United States</td>\n",
       "      <td>62711</td>\n",
       "      <td>Yes</td>\n",
       "    </tr>\n",
       "    <tr>\n",
       "      <th>4</th>\n",
       "      <td>23806-46781-OU</td>\n",
       "      <td>Christoffer O' Shea</td>\n",
       "      <td>NaN</td>\n",
       "      <td>+353 (698) 362-9201</td>\n",
       "      <td>38980 Manitowish Junction</td>\n",
       "      <td>Cill Airne</td>\n",
       "      <td>Ireland</td>\n",
       "      <td>N41</td>\n",
       "      <td>No</td>\n",
       "    </tr>\n",
       "  </tbody>\n",
       "</table>\n",
       "</div>"
      ],
      "text/plain": [
       "      Customer ID        Customer Name                 Email  \\\n",
       "0  17670-51384-MA       Aloisia Allner     aallner0@lulu.com   \n",
       "1  73342-18763-UW           Piotr Bote       pbote1@yelp.com   \n",
       "2  21125-22134-PX        Jami Redholes  jredholes2@tmall.com   \n",
       "3  71253-00052-RN           Dene Azema  dazema3@facebook.com   \n",
       "4  23806-46781-OU  Christoffer O' Shea                   NaN   \n",
       "\n",
       "          Phone Number             Address Line 1         City        Country  \\\n",
       "0    +1 (862) 817-0124    57999 Pepper Wood Alley     Paterson  United States   \n",
       "1  +353 (913) 396-4653         2112 Ridgeway Hill      Crumlin        Ireland   \n",
       "2    +1 (210) 986-6806        5214 Bartillon Park  San Antonio  United States   \n",
       "3    +1 (217) 418-0714           27 Maywood Place  Springfield  United States   \n",
       "4  +353 (698) 362-9201  38980 Manitowish Junction   Cill Airne        Ireland   \n",
       "\n",
       "  Postcode Loyalty Card  \n",
       "0     7505          Yes  \n",
       "1      D6W           No  \n",
       "2    78205          Yes  \n",
       "3    62711          Yes  \n",
       "4      N41           No  "
      ]
     },
     "execution_count": 145,
     "metadata": {},
     "output_type": "execute_result"
    }
   ],
   "source": [
    "customersDF.head()"
   ]
  },
  {
   "cell_type": "markdown",
   "id": "48c251ff-1ab6-475a-b5e9-e22191ff9e66",
   "metadata": {},
   "source": [
    "#### Validating Data Types\n",
    "We know that we have the right data but we need to ensure that the data we will be analysing is cast correcrtly. <br>\n",
    "the '.dtype' module helps with this."
   ]
  },
  {
   "cell_type": "code",
   "execution_count": 72,
   "id": "f5fcd5bc-1ea6-46df-a676-aae0ca34a2e0",
   "metadata": {},
   "outputs": [
    {
     "data": {
      "text/plain": [
       "Order ID       object\n",
       "Order Date     object\n",
       "Customer ID    object\n",
       "Product ID     object\n",
       "Quantity        int64\n",
       "dtype: object"
      ]
     },
     "execution_count": 72,
     "metadata": {},
     "output_type": "execute_result"
    }
   ],
   "source": [
    "ordersDF.dtypes"
   ]
  },
  {
   "cell_type": "code",
   "execution_count": 73,
   "id": "17a7c959-a01c-444e-af72-9a81b289ee8f",
   "metadata": {},
   "outputs": [
    {
     "data": {
      "text/plain": [
       "Customer ID       object\n",
       "Customer Name     object\n",
       "Email             object\n",
       "Phone Number      object\n",
       "Address Line 1    object\n",
       "City              object\n",
       "Country           object\n",
       "Postcode          object\n",
       "Loyalty Card      object\n",
       "dtype: object"
      ]
     },
     "execution_count": 73,
     "metadata": {},
     "output_type": "execute_result"
    }
   ],
   "source": [
    "customersDF.dtypes"
   ]
  },
  {
   "cell_type": "code",
   "execution_count": 74,
   "id": "b00d9b8c-9901-4b2f-80db-41f3d7bed6de",
   "metadata": {},
   "outputs": [
    {
     "data": {
      "text/plain": [
       "Order ID       object\n",
       "Order Date     object\n",
       "Customer ID    object\n",
       "Product ID     object\n",
       "Quantity        int64\n",
       "dtype: object"
      ]
     },
     "execution_count": 74,
     "metadata": {},
     "output_type": "execute_result"
    }
   ],
   "source": [
    "ordersDF.dtypes"
   ]
  },
  {
   "cell_type": "markdown",
   "id": "18235d02-ff5d-4124-9b8e-bad71a1c972c",
   "metadata": {},
   "source": [
    "In ordersDF it looks like we have to convert 'Order Date' into a datetime type."
   ]
  },
  {
   "cell_type": "code",
   "execution_count": 146,
   "id": "a5ad8fbd-2faa-496a-8463-f0bd5322b220",
   "metadata": {},
   "outputs": [],
   "source": [
    "ordersDF['Order Date'] = pd.to_datetime(ordersDF['Order Date'])"
   ]
  },
  {
   "cell_type": "markdown",
   "id": "eed10733-a922-4d67-b3bb-c72116a6f7be",
   "metadata": {},
   "source": [
    "^^ Notice that above we used this syntax [DF Object].[DF Column Name] <br>\n",
    "We will use this syntax quite a bit in our analysis"
   ]
  },
  {
   "cell_type": "markdown",
   "id": "1eca2b1c-f9e6-41b9-a4b7-f29c9612d2c3",
   "metadata": {},
   "source": [
    "Let's call the .dtypes module once again to verify the change."
   ]
  },
  {
   "cell_type": "code",
   "execution_count": 149,
   "id": "6cdf7613-f405-499f-85e3-eaa831a67b3d",
   "metadata": {},
   "outputs": [
    {
     "data": {
      "text/plain": [
       "Order ID               object\n",
       "Order Date     datetime64[ns]\n",
       "Customer ID            object\n",
       "Product ID             object\n",
       "Quantity                int64\n",
       "dtype: object"
      ]
     },
     "execution_count": 149,
     "metadata": {},
     "output_type": "execute_result"
    }
   ],
   "source": [
    "ordersDF.dtypes"
   ]
  },
  {
   "cell_type": "markdown",
   "id": "5d9baa16-ba16-4555-8ef7-9683014f678c",
   "metadata": {},
   "source": [
    "It looks like the change took."
   ]
  },
  {
   "cell_type": "markdown",
   "id": "08b08b91-16f0-4b32-98d3-44209308ae92",
   "metadata": {},
   "source": [
    "#### Selecting Rows and Columns\n",
    "We may not need all of the data within a dataframe so let's look at the different ways to select specific data."
   ]
  },
  {
   "cell_type": "markdown",
   "id": "eb30b278-18fa-40b7-ba61-1a8a33a655e3",
   "metadata": {},
   "source": [
    "Below is the syntax for selecting a single column"
   ]
  },
  {
   "cell_type": "code",
   "execution_count": 158,
   "id": "312dec8b-456e-4ef8-b8e0-79df14194a42",
   "metadata": {},
   "outputs": [
    {
     "data": {
      "text/plain": [
       "0      QEV-37451-860\n",
       "1      QEV-37451-860\n",
       "2      FAA-43335-268\n",
       "3      KAC-83089-793\n",
       "4      KAC-83089-793\n",
       "           ...      \n",
       "995    RLM-96511-467\n",
       "996    AEZ-13242-456\n",
       "997    UME-75640-698\n",
       "998    GJC-66474-557\n",
       "999    IRV-20769-219\n",
       "Name: Order ID, Length: 1000, dtype: object"
      ]
     },
     "execution_count": 158,
     "metadata": {},
     "output_type": "execute_result"
    }
   ],
   "source": [
    "ordersDF['Order ID']"
   ]
  },
  {
   "cell_type": "markdown",
   "id": "b8440c00-aa3b-49a4-8116-18edfb75b725",
   "metadata": {},
   "source": [
    "Here is example of selecting multiple columns, notice the bracket syntax."
   ]
  },
  {
   "cell_type": "code",
   "execution_count": 160,
   "id": "fcb64303-9391-4fd6-ae94-7becd9b04777",
   "metadata": {},
   "outputs": [
    {
     "data": {
      "text/html": [
       "<div>\n",
       "<style scoped>\n",
       "    .dataframe tbody tr th:only-of-type {\n",
       "        vertical-align: middle;\n",
       "    }\n",
       "\n",
       "    .dataframe tbody tr th {\n",
       "        vertical-align: top;\n",
       "    }\n",
       "\n",
       "    .dataframe thead th {\n",
       "        text-align: right;\n",
       "    }\n",
       "</style>\n",
       "<table border=\"1\" class=\"dataframe\">\n",
       "  <thead>\n",
       "    <tr style=\"text-align: right;\">\n",
       "      <th></th>\n",
       "      <th>Order ID</th>\n",
       "      <th>Quantity</th>\n",
       "    </tr>\n",
       "  </thead>\n",
       "  <tbody>\n",
       "    <tr>\n",
       "      <th>0</th>\n",
       "      <td>QEV-37451-860</td>\n",
       "      <td>2</td>\n",
       "    </tr>\n",
       "    <tr>\n",
       "      <th>1</th>\n",
       "      <td>QEV-37451-860</td>\n",
       "      <td>5</td>\n",
       "    </tr>\n",
       "    <tr>\n",
       "      <th>2</th>\n",
       "      <td>FAA-43335-268</td>\n",
       "      <td>1</td>\n",
       "    </tr>\n",
       "    <tr>\n",
       "      <th>3</th>\n",
       "      <td>KAC-83089-793</td>\n",
       "      <td>2</td>\n",
       "    </tr>\n",
       "    <tr>\n",
       "      <th>4</th>\n",
       "      <td>KAC-83089-793</td>\n",
       "      <td>2</td>\n",
       "    </tr>\n",
       "    <tr>\n",
       "      <th>...</th>\n",
       "      <td>...</td>\n",
       "      <td>...</td>\n",
       "    </tr>\n",
       "    <tr>\n",
       "      <th>995</th>\n",
       "      <td>RLM-96511-467</td>\n",
       "      <td>1</td>\n",
       "    </tr>\n",
       "    <tr>\n",
       "      <th>996</th>\n",
       "      <td>AEZ-13242-456</td>\n",
       "      <td>5</td>\n",
       "    </tr>\n",
       "    <tr>\n",
       "      <th>997</th>\n",
       "      <td>UME-75640-698</td>\n",
       "      <td>4</td>\n",
       "    </tr>\n",
       "    <tr>\n",
       "      <th>998</th>\n",
       "      <td>GJC-66474-557</td>\n",
       "      <td>1</td>\n",
       "    </tr>\n",
       "    <tr>\n",
       "      <th>999</th>\n",
       "      <td>IRV-20769-219</td>\n",
       "      <td>3</td>\n",
       "    </tr>\n",
       "  </tbody>\n",
       "</table>\n",
       "<p>1000 rows × 2 columns</p>\n",
       "</div>"
      ],
      "text/plain": [
       "          Order ID  Quantity\n",
       "0    QEV-37451-860         2\n",
       "1    QEV-37451-860         5\n",
       "2    FAA-43335-268         1\n",
       "3    KAC-83089-793         2\n",
       "4    KAC-83089-793         2\n",
       "..             ...       ...\n",
       "995  RLM-96511-467         1\n",
       "996  AEZ-13242-456         5\n",
       "997  UME-75640-698         4\n",
       "998  GJC-66474-557         1\n",
       "999  IRV-20769-219         3\n",
       "\n",
       "[1000 rows x 2 columns]"
      ]
     },
     "execution_count": 160,
     "metadata": {},
     "output_type": "execute_result"
    }
   ],
   "source": [
    "ordersDF[['Order ID', 'Quantity']]"
   ]
  },
  {
   "cell_type": "markdown",
   "id": "bc768b1e-eb79-4b75-9d77-9bcfca2d91a8",
   "metadata": {},
   "source": [
    "Below is an example of selecting specific rows. <br> \n",
    "Note that pandas will assign a row index when you load in a data frame. <br>\n",
    "The : symbol acts as 'between' and in the below snippet we are calling rows between 1 and 10"
   ]
  },
  {
   "cell_type": "code",
   "execution_count": 164,
   "id": "b663f624-71c2-4679-952a-9fdc4e9782aa",
   "metadata": {},
   "outputs": [
    {
     "data": {
      "text/html": [
       "<div>\n",
       "<style scoped>\n",
       "    .dataframe tbody tr th:only-of-type {\n",
       "        vertical-align: middle;\n",
       "    }\n",
       "\n",
       "    .dataframe tbody tr th {\n",
       "        vertical-align: top;\n",
       "    }\n",
       "\n",
       "    .dataframe thead th {\n",
       "        text-align: right;\n",
       "    }\n",
       "</style>\n",
       "<table border=\"1\" class=\"dataframe\">\n",
       "  <thead>\n",
       "    <tr style=\"text-align: right;\">\n",
       "      <th></th>\n",
       "      <th>Order ID</th>\n",
       "      <th>Order Date</th>\n",
       "      <th>Customer ID</th>\n",
       "      <th>Product ID</th>\n",
       "      <th>Quantity</th>\n",
       "    </tr>\n",
       "  </thead>\n",
       "  <tbody>\n",
       "    <tr>\n",
       "      <th>1</th>\n",
       "      <td>QEV-37451-860</td>\n",
       "      <td>2019-09-05</td>\n",
       "      <td>17670-51384-MA</td>\n",
       "      <td>E-M-0.5</td>\n",
       "      <td>5</td>\n",
       "    </tr>\n",
       "    <tr>\n",
       "      <th>2</th>\n",
       "      <td>FAA-43335-268</td>\n",
       "      <td>2021-06-17</td>\n",
       "      <td>21125-22134-PX</td>\n",
       "      <td>A-L-1</td>\n",
       "      <td>1</td>\n",
       "    </tr>\n",
       "    <tr>\n",
       "      <th>3</th>\n",
       "      <td>KAC-83089-793</td>\n",
       "      <td>2021-07-15</td>\n",
       "      <td>23806-46781-OU</td>\n",
       "      <td>E-M-1</td>\n",
       "      <td>2</td>\n",
       "    </tr>\n",
       "    <tr>\n",
       "      <th>4</th>\n",
       "      <td>KAC-83089-793</td>\n",
       "      <td>2021-07-15</td>\n",
       "      <td>23806-46781-OU</td>\n",
       "      <td>R-L-2.5</td>\n",
       "      <td>2</td>\n",
       "    </tr>\n",
       "    <tr>\n",
       "      <th>5</th>\n",
       "      <td>CVP-18956-553</td>\n",
       "      <td>2021-08-04</td>\n",
       "      <td>86561-91660-RB</td>\n",
       "      <td>L-D-1</td>\n",
       "      <td>3</td>\n",
       "    </tr>\n",
       "    <tr>\n",
       "      <th>6</th>\n",
       "      <td>IPP-31994-879</td>\n",
       "      <td>2022-01-21</td>\n",
       "      <td>65223-29612-CB</td>\n",
       "      <td>E-D-0.5</td>\n",
       "      <td>3</td>\n",
       "    </tr>\n",
       "    <tr>\n",
       "      <th>7</th>\n",
       "      <td>SNZ-65340-705</td>\n",
       "      <td>2022-05-20</td>\n",
       "      <td>21134-81676-FR</td>\n",
       "      <td>L-L-0.2</td>\n",
       "      <td>1</td>\n",
       "    </tr>\n",
       "    <tr>\n",
       "      <th>8</th>\n",
       "      <td>EZT-46571-659</td>\n",
       "      <td>2019-01-02</td>\n",
       "      <td>03396-68805-ZC</td>\n",
       "      <td>R-M-0.5</td>\n",
       "      <td>3</td>\n",
       "    </tr>\n",
       "    <tr>\n",
       "      <th>9</th>\n",
       "      <td>NWQ-70061-912</td>\n",
       "      <td>2019-09-05</td>\n",
       "      <td>61021-27840-ZN</td>\n",
       "      <td>R-M-0.5</td>\n",
       "      <td>1</td>\n",
       "    </tr>\n",
       "  </tbody>\n",
       "</table>\n",
       "</div>"
      ],
      "text/plain": [
       "        Order ID Order Date     Customer ID Product ID  Quantity\n",
       "1  QEV-37451-860 2019-09-05  17670-51384-MA    E-M-0.5         5\n",
       "2  FAA-43335-268 2021-06-17  21125-22134-PX      A-L-1         1\n",
       "3  KAC-83089-793 2021-07-15  23806-46781-OU      E-M-1         2\n",
       "4  KAC-83089-793 2021-07-15  23806-46781-OU    R-L-2.5         2\n",
       "5  CVP-18956-553 2021-08-04  86561-91660-RB      L-D-1         3\n",
       "6  IPP-31994-879 2022-01-21  65223-29612-CB    E-D-0.5         3\n",
       "7  SNZ-65340-705 2022-05-20  21134-81676-FR    L-L-0.2         1\n",
       "8  EZT-46571-659 2019-01-02  03396-68805-ZC    R-M-0.5         3\n",
       "9  NWQ-70061-912 2019-09-05  61021-27840-ZN    R-M-0.5         1"
      ]
     },
     "execution_count": 164,
     "metadata": {},
     "output_type": "execute_result"
    }
   ],
   "source": [
    "ordersDF[1 : 10]"
   ]
  },
  {
   "cell_type": "markdown",
   "id": "5a9c8f6b-f784-48cb-93d2-9044af9bda1b",
   "metadata": {},
   "source": [
    "#### Filtering\n",
    "Below are method for filters data with Pandas <br>\n",
    "In the example below we are surfacing rows where the order quantity was greater than 5 <br>\n",
    "##### Note I am only using the .head module to limit to return results and it not a part of the filtering syntax."
   ]
  },
  {
   "cell_type": "code",
   "execution_count": 173,
   "id": "30877e1b-332e-4717-83fe-a45be35a7dfc",
   "metadata": {},
   "outputs": [
    {
     "data": {
      "text/html": [
       "<div>\n",
       "<style scoped>\n",
       "    .dataframe tbody tr th:only-of-type {\n",
       "        vertical-align: middle;\n",
       "    }\n",
       "\n",
       "    .dataframe tbody tr th {\n",
       "        vertical-align: top;\n",
       "    }\n",
       "\n",
       "    .dataframe thead th {\n",
       "        text-align: right;\n",
       "    }\n",
       "</style>\n",
       "<table border=\"1\" class=\"dataframe\">\n",
       "  <thead>\n",
       "    <tr style=\"text-align: right;\">\n",
       "      <th></th>\n",
       "      <th>Order ID</th>\n",
       "      <th>Order Date</th>\n",
       "      <th>Customer ID</th>\n",
       "      <th>Product ID</th>\n",
       "      <th>Quantity</th>\n",
       "    </tr>\n",
       "  </thead>\n",
       "  <tbody>\n",
       "    <tr>\n",
       "      <th>16</th>\n",
       "      <td>VAU-44387-624</td>\n",
       "      <td>2019-03-20</td>\n",
       "      <td>99643-51048-IQ</td>\n",
       "      <td>A-M-0.2</td>\n",
       "      <td>6</td>\n",
       "    </tr>\n",
       "    <tr>\n",
       "      <th>17</th>\n",
       "      <td>RDW-33155-159</td>\n",
       "      <td>2019-10-19</td>\n",
       "      <td>62173-15287-CU</td>\n",
       "      <td>A-L-1</td>\n",
       "      <td>6</td>\n",
       "    </tr>\n",
       "    <tr>\n",
       "      <th>21</th>\n",
       "      <td>NUO-20013-488</td>\n",
       "      <td>2020-12-04</td>\n",
       "      <td>03090-88267-BQ</td>\n",
       "      <td>A-D-0.2</td>\n",
       "      <td>6</td>\n",
       "    </tr>\n",
       "    <tr>\n",
       "      <th>31</th>\n",
       "      <td>WOQ-36015-429</td>\n",
       "      <td>2021-09-25</td>\n",
       "      <td>51427-89175-QJ</td>\n",
       "      <td>A-D-0.5</td>\n",
       "      <td>6</td>\n",
       "    </tr>\n",
       "    <tr>\n",
       "      <th>32</th>\n",
       "      <td>WOQ-36015-429</td>\n",
       "      <td>2021-09-25</td>\n",
       "      <td>51427-89175-QJ</td>\n",
       "      <td>L-M-0.5</td>\n",
       "      <td>6</td>\n",
       "    </tr>\n",
       "  </tbody>\n",
       "</table>\n",
       "</div>"
      ],
      "text/plain": [
       "         Order ID Order Date     Customer ID Product ID  Quantity\n",
       "16  VAU-44387-624 2019-03-20  99643-51048-IQ    A-M-0.2         6\n",
       "17  RDW-33155-159 2019-10-19  62173-15287-CU      A-L-1         6\n",
       "21  NUO-20013-488 2020-12-04  03090-88267-BQ    A-D-0.2         6\n",
       "31  WOQ-36015-429 2021-09-25  51427-89175-QJ    A-D-0.5         6\n",
       "32  WOQ-36015-429 2021-09-25  51427-89175-QJ    L-M-0.5         6"
      ]
     },
     "execution_count": 173,
     "metadata": {},
     "output_type": "execute_result"
    }
   ],
   "source": [
    "ordersDF[ordersDF['Quantity'] > 5].head()"
   ]
  },
  {
   "cell_type": "markdown",
   "id": "60caf712-5cf0-46c8-88e9-a9cddc2ef4ab",
   "metadata": {},
   "source": [
    "Because we converted 'Order Date' to datetime earlier we can now filter for dates as well"
   ]
  },
  {
   "cell_type": "code",
   "execution_count": 177,
   "id": "51dd8262-da2f-4c99-b7a6-09517c62a571",
   "metadata": {},
   "outputs": [
    {
     "data": {
      "text/html": [
       "<div>\n",
       "<style scoped>\n",
       "    .dataframe tbody tr th:only-of-type {\n",
       "        vertical-align: middle;\n",
       "    }\n",
       "\n",
       "    .dataframe tbody tr th {\n",
       "        vertical-align: top;\n",
       "    }\n",
       "\n",
       "    .dataframe thead th {\n",
       "        text-align: right;\n",
       "    }\n",
       "</style>\n",
       "<table border=\"1\" class=\"dataframe\">\n",
       "  <thead>\n",
       "    <tr style=\"text-align: right;\">\n",
       "      <th></th>\n",
       "      <th>Order ID</th>\n",
       "      <th>Order Date</th>\n",
       "      <th>Customer ID</th>\n",
       "      <th>Product ID</th>\n",
       "      <th>Quantity</th>\n",
       "    </tr>\n",
       "  </thead>\n",
       "  <tbody>\n",
       "    <tr>\n",
       "      <th>6</th>\n",
       "      <td>IPP-31994-879</td>\n",
       "      <td>2022-01-21</td>\n",
       "      <td>65223-29612-CB</td>\n",
       "      <td>E-D-0.5</td>\n",
       "      <td>3</td>\n",
       "    </tr>\n",
       "    <tr>\n",
       "      <th>7</th>\n",
       "      <td>SNZ-65340-705</td>\n",
       "      <td>2022-05-20</td>\n",
       "      <td>21134-81676-FR</td>\n",
       "      <td>L-L-0.2</td>\n",
       "      <td>1</td>\n",
       "    </tr>\n",
       "    <tr>\n",
       "      <th>12</th>\n",
       "      <td>SZW-48378-399</td>\n",
       "      <td>2022-07-02</td>\n",
       "      <td>34136-36674-OM</td>\n",
       "      <td>R-M-1</td>\n",
       "      <td>5</td>\n",
       "    </tr>\n",
       "    <tr>\n",
       "      <th>14</th>\n",
       "      <td>GNZ-46006-527</td>\n",
       "      <td>2022-04-05</td>\n",
       "      <td>95875-73336-RG</td>\n",
       "      <td>L-D-0.2</td>\n",
       "      <td>3</td>\n",
       "    </tr>\n",
       "    <tr>\n",
       "      <th>15</th>\n",
       "      <td>FYQ-78248-319</td>\n",
       "      <td>2022-06-07</td>\n",
       "      <td>25473-43727-BY</td>\n",
       "      <td>R-M-2.5</td>\n",
       "      <td>5</td>\n",
       "    </tr>\n",
       "  </tbody>\n",
       "</table>\n",
       "</div>"
      ],
      "text/plain": [
       "         Order ID Order Date     Customer ID Product ID  Quantity\n",
       "6   IPP-31994-879 2022-01-21  65223-29612-CB    E-D-0.5         3\n",
       "7   SNZ-65340-705 2022-05-20  21134-81676-FR    L-L-0.2         1\n",
       "12  SZW-48378-399 2022-07-02  34136-36674-OM      R-M-1         5\n",
       "14  GNZ-46006-527 2022-04-05  95875-73336-RG    L-D-0.2         3\n",
       "15  FYQ-78248-319 2022-06-07  25473-43727-BY    R-M-2.5         5"
      ]
     },
     "execution_count": 177,
     "metadata": {},
     "output_type": "execute_result"
    }
   ],
   "source": [
    "ordersDF[ordersDF['Order Date'] > '2022-01-01'].head()"
   ]
  },
  {
   "cell_type": "markdown",
   "id": "d747459c-aa7c-4044-9976-fbf958dc9379",
   "metadata": {},
   "source": [
    "Below is an example of how a column can be selected and then filtered. <br>\n",
    "Looking for orders after 2022-01-01"
   ]
  },
  {
   "cell_type": "code",
   "execution_count": 175,
   "id": "3fdbafd0-9c49-49eb-8e83-2bb6c07203e1",
   "metadata": {},
   "outputs": [
    {
     "data": {
      "text/plain": [
       "6    2022-01-21\n",
       "7    2022-05-20\n",
       "12   2022-07-02\n",
       "14   2022-04-05\n",
       "15   2022-06-07\n",
       "Name: Order Date, dtype: datetime64[ns]"
      ]
     },
     "execution_count": 175,
     "metadata": {},
     "output_type": "execute_result"
    }
   ],
   "source": [
    "ordersDF['Order Date'][ordersDF['Order Date'] > '2022-01-01'].head()"
   ]
  },
  {
   "cell_type": "markdown",
   "id": "fbeeee85-ec0b-4cee-902a-db68bfe65bfa",
   "metadata": {},
   "source": [
    "Same as above but with multiple columns selected and then filtered. <br>\n",
    "Looking for Orders quantity greater than 4"
   ]
  },
  {
   "cell_type": "code",
   "execution_count": 176,
   "id": "95d51e0a-6e90-4c12-b441-8ec93c694d97",
   "metadata": {},
   "outputs": [
    {
     "data": {
      "text/html": [
       "<div>\n",
       "<style scoped>\n",
       "    .dataframe tbody tr th:only-of-type {\n",
       "        vertical-align: middle;\n",
       "    }\n",
       "\n",
       "    .dataframe tbody tr th {\n",
       "        vertical-align: top;\n",
       "    }\n",
       "\n",
       "    .dataframe thead th {\n",
       "        text-align: right;\n",
       "    }\n",
       "</style>\n",
       "<table border=\"1\" class=\"dataframe\">\n",
       "  <thead>\n",
       "    <tr style=\"text-align: right;\">\n",
       "      <th></th>\n",
       "      <th>Order ID</th>\n",
       "      <th>Quantity</th>\n",
       "      <th>Customer ID</th>\n",
       "    </tr>\n",
       "  </thead>\n",
       "  <tbody>\n",
       "    <tr>\n",
       "      <th>1</th>\n",
       "      <td>QEV-37451-860</td>\n",
       "      <td>5</td>\n",
       "      <td>17670-51384-MA</td>\n",
       "    </tr>\n",
       "    <tr>\n",
       "      <th>11</th>\n",
       "      <td>VQR-01002-970</td>\n",
       "      <td>5</td>\n",
       "      <td>49315-21985-BB</td>\n",
       "    </tr>\n",
       "    <tr>\n",
       "      <th>12</th>\n",
       "      <td>SZW-48378-399</td>\n",
       "      <td>5</td>\n",
       "      <td>34136-36674-OM</td>\n",
       "    </tr>\n",
       "    <tr>\n",
       "      <th>15</th>\n",
       "      <td>FYQ-78248-319</td>\n",
       "      <td>5</td>\n",
       "      <td>25473-43727-BY</td>\n",
       "    </tr>\n",
       "    <tr>\n",
       "      <th>16</th>\n",
       "      <td>VAU-44387-624</td>\n",
       "      <td>6</td>\n",
       "      <td>99643-51048-IQ</td>\n",
       "    </tr>\n",
       "  </tbody>\n",
       "</table>\n",
       "</div>"
      ],
      "text/plain": [
       "         Order ID  Quantity     Customer ID\n",
       "1   QEV-37451-860         5  17670-51384-MA\n",
       "11  VQR-01002-970         5  49315-21985-BB\n",
       "12  SZW-48378-399         5  34136-36674-OM\n",
       "15  FYQ-78248-319         5  25473-43727-BY\n",
       "16  VAU-44387-624         6  99643-51048-IQ"
      ]
     },
     "execution_count": 176,
     "metadata": {},
     "output_type": "execute_result"
    }
   ],
   "source": [
    "ordersDF[['Order ID', 'Quantity', 'Customer ID']][ordersDF['Quantity'] > 4].head()"
   ]
  },
  {
   "cell_type": "markdown",
   "id": "96f88f8a-0814-4a42-9cdc-52c7820949c6",
   "metadata": {},
   "source": [
    "Below is an example of how we search for a specific value. <br>\n",
    "Looking for orders that had a Product ID of 'E-D-0.5'"
   ]
  },
  {
   "cell_type": "code",
   "execution_count": 179,
   "id": "c78d4a9e-f5ce-4bc9-bc40-7b41b4d64f0d",
   "metadata": {},
   "outputs": [
    {
     "data": {
      "text/html": [
       "<div>\n",
       "<style scoped>\n",
       "    .dataframe tbody tr th:only-of-type {\n",
       "        vertical-align: middle;\n",
       "    }\n",
       "\n",
       "    .dataframe tbody tr th {\n",
       "        vertical-align: top;\n",
       "    }\n",
       "\n",
       "    .dataframe thead th {\n",
       "        text-align: right;\n",
       "    }\n",
       "</style>\n",
       "<table border=\"1\" class=\"dataframe\">\n",
       "  <thead>\n",
       "    <tr style=\"text-align: right;\">\n",
       "      <th></th>\n",
       "      <th>Order ID</th>\n",
       "      <th>Order Date</th>\n",
       "      <th>Customer ID</th>\n",
       "      <th>Product ID</th>\n",
       "      <th>Quantity</th>\n",
       "    </tr>\n",
       "  </thead>\n",
       "  <tbody>\n",
       "    <tr>\n",
       "      <th>6</th>\n",
       "      <td>IPP-31994-879</td>\n",
       "      <td>2022-01-21</td>\n",
       "      <td>65223-29612-CB</td>\n",
       "      <td>E-D-0.5</td>\n",
       "      <td>3</td>\n",
       "    </tr>\n",
       "    <tr>\n",
       "      <th>118</th>\n",
       "      <td>RFH-64349-897</td>\n",
       "      <td>2019-10-22</td>\n",
       "      <td>61954-61462-RJ</td>\n",
       "      <td>E-D-0.5</td>\n",
       "      <td>3</td>\n",
       "    </tr>\n",
       "    <tr>\n",
       "      <th>131</th>\n",
       "      <td>VDZ-76673-968</td>\n",
       "      <td>2020-12-31</td>\n",
       "      <td>82246-82543-DW</td>\n",
       "      <td>E-D-0.5</td>\n",
       "      <td>2</td>\n",
       "    </tr>\n",
       "    <tr>\n",
       "      <th>162</th>\n",
       "      <td>CBT-55781-720</td>\n",
       "      <td>2021-11-15</td>\n",
       "      <td>97855-54761-IS</td>\n",
       "      <td>E-D-0.5</td>\n",
       "      <td>3</td>\n",
       "    </tr>\n",
       "    <tr>\n",
       "      <th>164</th>\n",
       "      <td>BYU-58154-603</td>\n",
       "      <td>2020-12-17</td>\n",
       "      <td>51971-70393-QM</td>\n",
       "      <td>E-D-0.5</td>\n",
       "      <td>4</td>\n",
       "    </tr>\n",
       "  </tbody>\n",
       "</table>\n",
       "</div>"
      ],
      "text/plain": [
       "          Order ID Order Date     Customer ID Product ID  Quantity\n",
       "6    IPP-31994-879 2022-01-21  65223-29612-CB    E-D-0.5         3\n",
       "118  RFH-64349-897 2019-10-22  61954-61462-RJ    E-D-0.5         3\n",
       "131  VDZ-76673-968 2020-12-31  82246-82543-DW    E-D-0.5         2\n",
       "162  CBT-55781-720 2021-11-15  97855-54761-IS    E-D-0.5         3\n",
       "164  BYU-58154-603 2020-12-17  51971-70393-QM    E-D-0.5         4"
      ]
     },
     "execution_count": 179,
     "metadata": {},
     "output_type": "execute_result"
    }
   ],
   "source": [
    "ordersDF[ordersDF['Product ID']=='E-D-0.5'].head()"
   ]
  },
  {
   "cell_type": "markdown",
   "id": "c4f4a676-c608-4ce8-80ce-9bb3988dd7db",
   "metadata": {},
   "source": [
    "#### Aggregation Modules"
   ]
  },
  {
   "cell_type": "markdown",
   "id": "520737b5-4a33-461a-a234-df2fb725c4d1",
   "metadata": {},
   "source": [
    "There are some nifty quick aggreagations we can do against our data to understand it more."
   ]
  },
  {
   "cell_type": "markdown",
   "id": "cfb877f2-2898-4cd0-8c92-230a60cc1e5b",
   "metadata": {},
   "source": [
    "The below syntax selects the Order ID columns, filters to having Quantity greater than 5, and returns the count of rows that meet the criteria <br>\n",
    "The .count() modules returns the number of rows meeting any criteria; returns all if no criteria is provided."
   ]
  },
  {
   "cell_type": "code",
   "execution_count": 182,
   "id": "8a34bc0a-3107-4a56-bbe6-c72149ba22c1",
   "metadata": {},
   "outputs": [
    {
     "data": {
      "text/plain": [
       "175"
      ]
     },
     "execution_count": 182,
     "metadata": {},
     "output_type": "execute_result"
    }
   ],
   "source": [
    "ordersDF['Order ID'][ordersDF['Quantity'] > 5].count()"
   ]
  },
  {
   "cell_type": "markdown",
   "id": "9894124a-b10b-4327-a574-e5f15d7a33e9",
   "metadata": {},
   "source": [
    "The below syntax returns a count of every row for each column."
   ]
  },
  {
   "cell_type": "code",
   "execution_count": 180,
   "id": "1023727c-ee7b-42b6-86c7-044195513559",
   "metadata": {},
   "outputs": [
    {
     "data": {
      "text/plain": [
       "Order ID       1000\n",
       "Order Date     1000\n",
       "Customer ID    1000\n",
       "Product ID     1000\n",
       "Quantity       1000\n",
       "dtype: int64"
      ]
     },
     "execution_count": 180,
     "metadata": {},
     "output_type": "execute_result"
    }
   ],
   "source": [
    "ordersDF.count()"
   ]
  },
  {
   "cell_type": "markdown",
   "id": "ef2cba99-a88e-407b-82a5-fcea09987501",
   "metadata": {},
   "source": [
    "The two statments above can be used in calculations as well. Below is example of extracting the percentage of orders that had a quantiy greater than 5."
   ]
  },
  {
   "cell_type": "code",
   "execution_count": 184,
   "id": "c533a148-a0db-46a8-8ca8-ff28d88b46ec",
   "metadata": {},
   "outputs": [
    {
     "data": {
      "text/plain": [
       "0.175"
      ]
     },
     "execution_count": 184,
     "metadata": {},
     "output_type": "execute_result"
    }
   ],
   "source": [
    "ordersDF['Order ID'][ordersDF['Quantity'] > 5].count() / ordersDF['Order ID'].count()"
   ]
  },
  {
   "cell_type": "markdown",
   "id": "3a4b27e6-c604-4e08-95b2-c500e6e04ec4",
   "metadata": {},
   "source": [
    "The .sum() module can be used on INT data types to return the sum values."
   ]
  },
  {
   "cell_type": "code",
   "execution_count": 181,
   "id": "9e4e9f6c-3cc8-4d7b-a2cd-926783fe4c0e",
   "metadata": {},
   "outputs": [
    {
     "data": {
      "text/plain": [
       "3551"
      ]
     },
     "execution_count": 181,
     "metadata": {},
     "output_type": "execute_result"
    }
   ],
   "source": [
    "ordersDF['Quantity'].sum()"
   ]
  },
  {
   "cell_type": "markdown",
   "id": "95c4ae8e-5df9-443e-9341-bd39cf95c311",
   "metadata": {},
   "source": [
    "#### Null Values\n",
    "The below methods are used to understand NaN (Null values) presented in your data."
   ]
  },
  {
   "cell_type": "markdown",
   "id": "8eb24886-ac2b-4858-8e3c-462de3509b21",
   "metadata": {},
   "source": [
    "The .isnull() module when used will return the table will BOOLEAN values depending on whether NaN is present."
   ]
  },
  {
   "cell_type": "code",
   "execution_count": 185,
   "id": "74754561-a1da-4f2e-9ffb-c4dd46cae2d9",
   "metadata": {},
   "outputs": [
    {
     "data": {
      "text/html": [
       "<div>\n",
       "<style scoped>\n",
       "    .dataframe tbody tr th:only-of-type {\n",
       "        vertical-align: middle;\n",
       "    }\n",
       "\n",
       "    .dataframe tbody tr th {\n",
       "        vertical-align: top;\n",
       "    }\n",
       "\n",
       "    .dataframe thead th {\n",
       "        text-align: right;\n",
       "    }\n",
       "</style>\n",
       "<table border=\"1\" class=\"dataframe\">\n",
       "  <thead>\n",
       "    <tr style=\"text-align: right;\">\n",
       "      <th></th>\n",
       "      <th>Customer ID</th>\n",
       "      <th>Customer Name</th>\n",
       "      <th>Email</th>\n",
       "      <th>Phone Number</th>\n",
       "      <th>Address Line 1</th>\n",
       "      <th>City</th>\n",
       "      <th>Country</th>\n",
       "      <th>Postcode</th>\n",
       "      <th>Loyalty Card</th>\n",
       "    </tr>\n",
       "  </thead>\n",
       "  <tbody>\n",
       "    <tr>\n",
       "      <th>0</th>\n",
       "      <td>False</td>\n",
       "      <td>False</td>\n",
       "      <td>False</td>\n",
       "      <td>False</td>\n",
       "      <td>False</td>\n",
       "      <td>False</td>\n",
       "      <td>False</td>\n",
       "      <td>False</td>\n",
       "      <td>False</td>\n",
       "    </tr>\n",
       "    <tr>\n",
       "      <th>1</th>\n",
       "      <td>False</td>\n",
       "      <td>False</td>\n",
       "      <td>False</td>\n",
       "      <td>False</td>\n",
       "      <td>False</td>\n",
       "      <td>False</td>\n",
       "      <td>False</td>\n",
       "      <td>False</td>\n",
       "      <td>False</td>\n",
       "    </tr>\n",
       "    <tr>\n",
       "      <th>2</th>\n",
       "      <td>False</td>\n",
       "      <td>False</td>\n",
       "      <td>False</td>\n",
       "      <td>False</td>\n",
       "      <td>False</td>\n",
       "      <td>False</td>\n",
       "      <td>False</td>\n",
       "      <td>False</td>\n",
       "      <td>False</td>\n",
       "    </tr>\n",
       "    <tr>\n",
       "      <th>3</th>\n",
       "      <td>False</td>\n",
       "      <td>False</td>\n",
       "      <td>False</td>\n",
       "      <td>False</td>\n",
       "      <td>False</td>\n",
       "      <td>False</td>\n",
       "      <td>False</td>\n",
       "      <td>False</td>\n",
       "      <td>False</td>\n",
       "    </tr>\n",
       "    <tr>\n",
       "      <th>4</th>\n",
       "      <td>False</td>\n",
       "      <td>False</td>\n",
       "      <td>True</td>\n",
       "      <td>False</td>\n",
       "      <td>False</td>\n",
       "      <td>False</td>\n",
       "      <td>False</td>\n",
       "      <td>False</td>\n",
       "      <td>False</td>\n",
       "    </tr>\n",
       "    <tr>\n",
       "      <th>...</th>\n",
       "      <td>...</td>\n",
       "      <td>...</td>\n",
       "      <td>...</td>\n",
       "      <td>...</td>\n",
       "      <td>...</td>\n",
       "      <td>...</td>\n",
       "      <td>...</td>\n",
       "      <td>...</td>\n",
       "      <td>...</td>\n",
       "    </tr>\n",
       "    <tr>\n",
       "      <th>995</th>\n",
       "      <td>False</td>\n",
       "      <td>False</td>\n",
       "      <td>False</td>\n",
       "      <td>False</td>\n",
       "      <td>False</td>\n",
       "      <td>False</td>\n",
       "      <td>False</td>\n",
       "      <td>False</td>\n",
       "      <td>False</td>\n",
       "    </tr>\n",
       "    <tr>\n",
       "      <th>996</th>\n",
       "      <td>False</td>\n",
       "      <td>False</td>\n",
       "      <td>True</td>\n",
       "      <td>False</td>\n",
       "      <td>False</td>\n",
       "      <td>False</td>\n",
       "      <td>False</td>\n",
       "      <td>False</td>\n",
       "      <td>False</td>\n",
       "    </tr>\n",
       "    <tr>\n",
       "      <th>997</th>\n",
       "      <td>False</td>\n",
       "      <td>False</td>\n",
       "      <td>True</td>\n",
       "      <td>False</td>\n",
       "      <td>False</td>\n",
       "      <td>False</td>\n",
       "      <td>False</td>\n",
       "      <td>False</td>\n",
       "      <td>False</td>\n",
       "    </tr>\n",
       "    <tr>\n",
       "      <th>998</th>\n",
       "      <td>False</td>\n",
       "      <td>False</td>\n",
       "      <td>False</td>\n",
       "      <td>False</td>\n",
       "      <td>False</td>\n",
       "      <td>False</td>\n",
       "      <td>False</td>\n",
       "      <td>False</td>\n",
       "      <td>False</td>\n",
       "    </tr>\n",
       "    <tr>\n",
       "      <th>999</th>\n",
       "      <td>False</td>\n",
       "      <td>False</td>\n",
       "      <td>True</td>\n",
       "      <td>False</td>\n",
       "      <td>False</td>\n",
       "      <td>False</td>\n",
       "      <td>False</td>\n",
       "      <td>False</td>\n",
       "      <td>False</td>\n",
       "    </tr>\n",
       "  </tbody>\n",
       "</table>\n",
       "<p>1000 rows × 9 columns</p>\n",
       "</div>"
      ],
      "text/plain": [
       "     Customer ID  Customer Name  Email  Phone Number  Address Line 1   City  \\\n",
       "0          False          False  False         False           False  False   \n",
       "1          False          False  False         False           False  False   \n",
       "2          False          False  False         False           False  False   \n",
       "3          False          False  False         False           False  False   \n",
       "4          False          False   True         False           False  False   \n",
       "..           ...            ...    ...           ...             ...    ...   \n",
       "995        False          False  False         False           False  False   \n",
       "996        False          False   True         False           False  False   \n",
       "997        False          False   True         False           False  False   \n",
       "998        False          False  False         False           False  False   \n",
       "999        False          False   True         False           False  False   \n",
       "\n",
       "     Country  Postcode  Loyalty Card  \n",
       "0      False     False         False  \n",
       "1      False     False         False  \n",
       "2      False     False         False  \n",
       "3      False     False         False  \n",
       "4      False     False         False  \n",
       "..       ...       ...           ...  \n",
       "995    False     False         False  \n",
       "996    False     False         False  \n",
       "997    False     False         False  \n",
       "998    False     False         False  \n",
       "999    False     False         False  \n",
       "\n",
       "[1000 rows x 9 columns]"
      ]
     },
     "execution_count": 185,
     "metadata": {},
     "output_type": "execute_result"
    }
   ],
   "source": [
    "customersDF.isnull()"
   ]
  },
  {
   "cell_type": "markdown",
   "id": "9d7b8476-a6d8-4b10-85ef-349bb64fb26d",
   "metadata": {},
   "source": [
    "If you want to check if any values are null against a dataframe the .value.any() module can be called."
   ]
  },
  {
   "cell_type": "code",
   "execution_count": 141,
   "id": "738b1b5a-dc14-4a70-8cc5-52ba707c506d",
   "metadata": {},
   "outputs": [
    {
     "data": {
      "text/plain": [
       "True"
      ]
     },
     "execution_count": 141,
     "metadata": {},
     "output_type": "execute_result"
    }
   ],
   "source": [
    "customersDF.isnull().values.any()"
   ]
  },
  {
   "cell_type": "markdown",
   "id": "ea5900c7-c393-4f82-80f8-c960ef9a7675",
   "metadata": {},
   "source": [
    "^^ We can see that in customersDF there are NaN values that exist. <br>"
   ]
  },
  {
   "cell_type": "markdown",
   "id": "ff5eced7-fe27-4247-a9c7-4e8e3b2d0794",
   "metadata": {},
   "source": [
    "We can chain the .sum() module to .isnull() to count the number of null values for each column"
   ]
  },
  {
   "cell_type": "code",
   "execution_count": 187,
   "id": "552f1c9b-7dde-4a67-a855-524931f7c7fe",
   "metadata": {},
   "outputs": [
    {
     "data": {
      "text/plain": [
       "Customer ID         0\n",
       "Customer Name       0\n",
       "Email             204\n",
       "Phone Number      130\n",
       "Address Line 1      0\n",
       "City                0\n",
       "Country             0\n",
       "Postcode            0\n",
       "Loyalty Card        0\n",
       "dtype: int64"
      ]
     },
     "execution_count": 187,
     "metadata": {},
     "output_type": "execute_result"
    }
   ],
   "source": [
    "customersDF.isnull().sum()"
   ]
  },
  {
   "cell_type": "markdown",
   "id": "caa83fb5-d0dc-4d00-ae68-5d67289a3250",
   "metadata": {},
   "source": [
    "Further we can do calculations to get the NaN percentage."
   ]
  },
  {
   "cell_type": "code",
   "execution_count": 189,
   "id": "34a20bc6-afe6-4eeb-a5fe-cb96e46f4de0",
   "metadata": {},
   "outputs": [
    {
     "data": {
      "text/plain": [
       "Customer ID       0.000000\n",
       "Customer Name     0.000000\n",
       "Email             0.256281\n",
       "Phone Number      0.149425\n",
       "Address Line 1    0.000000\n",
       "City              0.000000\n",
       "Country           0.000000\n",
       "Postcode          0.000000\n",
       "Loyalty Card      0.000000\n",
       "dtype: float64"
      ]
     },
     "execution_count": 189,
     "metadata": {},
     "output_type": "execute_result"
    }
   ],
   "source": [
    "customersDF.isnull().sum() / customersDF.count()"
   ]
  },
  {
   "cell_type": "code",
   "execution_count": null,
   "id": "5a1b8859-49bf-41a1-bcc6-eb667cc68b2e",
   "metadata": {},
   "outputs": [],
   "source": []
  }
 ],
 "metadata": {
  "kernelspec": {
   "display_name": "Python 3 (ipykernel)",
   "language": "python",
   "name": "python3"
  },
  "language_info": {
   "codemirror_mode": {
    "name": "ipython",
    "version": 3
   },
   "file_extension": ".py",
   "mimetype": "text/x-python",
   "name": "python",
   "nbconvert_exporter": "python",
   "pygments_lexer": "ipython3",
   "version": "3.9.6"
  }
 },
 "nbformat": 4,
 "nbformat_minor": 5
}
